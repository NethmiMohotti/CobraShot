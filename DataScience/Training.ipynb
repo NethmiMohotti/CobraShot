<<<<<<< Updated upstream
{
 "cells": [
  {
   "cell_type": "code",
   "execution_count": 1,
   "id": "4d8c305b",
   "metadata": {},
   "outputs": [],
   "source": [
    "import os\n",
    "import numpy as np\n",
    "import matplotlib.pyplot as plt\n",
    "import PIL\n",
    "import cv2\n",
    "\n",
    "from tensorflow import keras\n",
    "from tensorflow.keras.models import Sequential\n",
    "from keras.applications.vgg16 import VGG16\n",
    "from keras.applications.vgg16 import preprocess_input\n",
    "from keras.preprocessing import image\n",
    "from keras.optimizers import *\n",
    "from tensorflow.keras import *\n",
    "from tensorflow.keras.layers import Dense, Conv2D, Flatten, Dropout, MaxPooling2D,BatchNormalization,Input, Lambda\n",
    "from tensorflow.keras.preprocessing.image import ImageDataGenerator"
   ]
  },
  {
   "cell_type": "code",
   "execution_count": 2,
   "id": "e050439e",
   "metadata": {},
   "outputs": [],
   "source": [
    "IMAGE_SIZE = [224, 224]"
   ]
  },
  {
   "cell_type": "code",
   "execution_count": 3,
   "id": "f958cc61",
   "metadata": {
    "scrolled": true
   },
   "outputs": [],
   "source": [
    "train_path = \"C:\\\\Users\\\\Nethmi Mohotti\\\\Desktop\\\\CobraShot\\\\Data Science\\\\dataset\\\\train\"\n",
    "test_path = \"C:\\\\Users\\\\Nethmi Mohotti\\\\Desktop\\\\CobraShot\\\\Data Science\\\\dataset\\\\testing\""
   ]
  },
  {
   "cell_type": "code",
   "execution_count": 4,
   "id": "b8d99297",
   "metadata": {},
   "outputs": [],
   "source": [
    "vgg = VGG16(input_shape=IMAGE_SIZE + [3], weights='imagenet', include_top=False)"
   ]
  },
  {
   "cell_type": "code",
   "execution_count": 5,
   "id": "98ec4915",
   "metadata": {},
   "outputs": [],
   "source": [
    "for layer in vgg.layers:\n",
    "  layer.trainable = False"
   ]
  },
  {
   "cell_type": "code",
   "execution_count": 6,
   "id": "02b37e1a",
   "metadata": {
    "scrolled": true
   },
   "outputs": [
    {
     "name": "stdout",
     "output_type": "stream",
     "text": [
      "7\n"
     ]
    }
   ],
   "source": [
    "from glob import glob\n",
    "folders = glob(\"C:\\\\Users\\\\Nethmi Mohotti\\\\Desktop\\\\CobraShot\\\\Data Science\\\\dataset\\\\train\\\\*\")\n",
    "print(len(folders))"
   ]
  },
  {
   "cell_type": "code",
   "execution_count": 7,
   "id": "2ad88592",
   "metadata": {},
   "outputs": [],
   "source": [
    "x = Flatten()(vgg.output)"
   ]
  },
  {
   "cell_type": "code",
   "execution_count": 8,
   "id": "93008c74",
   "metadata": {},
   "outputs": [],
   "source": [
    "prediction = Dense(len(folders), activation='softmax')(x)"
   ]
  },
  {
   "cell_type": "code",
   "execution_count": 9,
   "id": "1556d436",
   "metadata": {},
   "outputs": [],
   "source": [
    "model = Model(inputs=vgg.input, outputs=prediction)"
   ]
  },
  {
   "cell_type": "code",
   "execution_count": 10,
   "id": "02249b90",
   "metadata": {},
   "outputs": [
    {
     "name": "stdout",
     "output_type": "stream",
     "text": [
      "Model: \"model\"\n",
      "_________________________________________________________________\n",
      " Layer (type)                Output Shape              Param #   \n",
      "=================================================================\n",
      " input_1 (InputLayer)        [(None, 224, 224, 3)]     0         \n",
      "                                                                 \n",
      " block1_conv1 (Conv2D)       (None, 224, 224, 64)      1792      \n",
      "                                                                 \n",
      " block1_conv2 (Conv2D)       (None, 224, 224, 64)      36928     \n",
      "                                                                 \n",
      " block1_pool (MaxPooling2D)  (None, 112, 112, 64)      0         \n",
      "                                                                 \n",
      " block2_conv1 (Conv2D)       (None, 112, 112, 128)     73856     \n",
      "                                                                 \n",
      " block2_conv2 (Conv2D)       (None, 112, 112, 128)     147584    \n",
      "                                                                 \n",
      " block2_pool (MaxPooling2D)  (None, 56, 56, 128)       0         \n",
      "                                                                 \n",
      " block3_conv1 (Conv2D)       (None, 56, 56, 256)       295168    \n",
      "                                                                 \n",
      " block3_conv2 (Conv2D)       (None, 56, 56, 256)       590080    \n",
      "                                                                 \n",
      " block3_conv3 (Conv2D)       (None, 56, 56, 256)       590080    \n",
      "                                                                 \n",
      " block3_pool (MaxPooling2D)  (None, 28, 28, 256)       0         \n",
      "                                                                 \n",
      " block4_conv1 (Conv2D)       (None, 28, 28, 512)       1180160   \n",
      "                                                                 \n",
      " block4_conv2 (Conv2D)       (None, 28, 28, 512)       2359808   \n",
      "                                                                 \n",
      " block4_conv3 (Conv2D)       (None, 28, 28, 512)       2359808   \n",
      "                                                                 \n",
      " block4_pool (MaxPooling2D)  (None, 14, 14, 512)       0         \n",
      "                                                                 \n",
      " block5_conv1 (Conv2D)       (None, 14, 14, 512)       2359808   \n",
      "                                                                 \n",
      " block5_conv2 (Conv2D)       (None, 14, 14, 512)       2359808   \n",
      "                                                                 \n",
      " block5_conv3 (Conv2D)       (None, 14, 14, 512)       2359808   \n",
      "                                                                 \n",
      " block5_pool (MaxPooling2D)  (None, 7, 7, 512)         0         \n",
      "                                                                 \n",
      " flatten (Flatten)           (None, 25088)             0         \n",
      "                                                                 \n",
      " dense (Dense)               (None, 7)                 175623    \n",
      "                                                                 \n",
      "=================================================================\n",
      "Total params: 14,890,311\n",
      "Trainable params: 175,623\n",
      "Non-trainable params: 14,714,688\n",
      "_________________________________________________________________\n"
     ]
    }
   ],
   "source": [
    "model.summary()"
   ]
  },
  {
   "cell_type": "code",
   "execution_count": 11,
   "id": "f5a6d750",
   "metadata": {},
   "outputs": [],
   "source": [
    "model.compile(\n",
    "  loss='categorical_crossentropy',\n",
    "  optimizer='adam',\n",
    "  metrics=['accuracy']\n",
    ")"
   ]
  },
  {
   "cell_type": "code",
   "execution_count": 12,
   "id": "ead1fad3",
   "metadata": {},
   "outputs": [],
   "source": [
    "train_dataset = ImageDataGenerator(rescale = 1./255,\n",
    "                                   shear_range = 0.2,\n",
    "                                   zoom_range = 0.2,\n",
    "                                   horizontal_flip = True)\n",
    "\n",
    "test_dataset = ImageDataGenerator(rescale = 1./255)"
   ]
  },
  {
   "cell_type": "code",
   "execution_count": 13,
   "id": "827ccc30",
   "metadata": {},
   "outputs": [
    {
     "name": "stdout",
     "output_type": "stream",
     "text": [
      "Found 2473 images belonging to 7 classes.\n",
      "Found 83 images belonging to 7 classes.\n"
     ]
    }
   ],
   "source": [
    "training_set = train_dataset.flow_from_directory(train_path,\n",
    "                                                 target_size = (224, 224),\n",
    "                                                 batch_size = 32,\n",
    "                                                 class_mode = 'categorical')\n",
    "\n",
    "testing_set = test_dataset.flow_from_directory(test_path, \n",
    "                                                 target_size = (224, 224),\n",
    "                                                 batch_size = 32,\n",
    "                                                 class_mode = 'categorical')"
   ]
  },
  {
   "cell_type": "code",
   "execution_count": 14,
   "id": "5d090a09",
   "metadata": {
    "scrolled": false
   },
   "outputs": [
    {
     "data": {
      "text/plain": [
       "{'Black rat snake': 0,\n",
       " 'Common garter snake': 1,\n",
       " 'Common watersnake': 2,\n",
       " \"Russell's Viper\": 3,\n",
       " 'Saw-scaled Viper': 4,\n",
       " 'Spectacled Cobra': 5,\n",
       " 'Western diamondback rattlesnake': 6}"
      ]
     },
     "execution_count": 14,
     "metadata": {},
     "output_type": "execute_result"
    }
   ],
   "source": [
    "training_set.class_indices"
   ]
  },
  {
   "cell_type": "code",
   "execution_count": 15,
   "id": "2c90c242",
   "metadata": {
    "scrolled": true
   },
   "outputs": [
    {
     "data": {
      "text/plain": [
       "array([0, 0, 0, ..., 6, 6, 6])"
      ]
     },
     "execution_count": 15,
     "metadata": {},
     "output_type": "execute_result"
    }
   ],
   "source": [
    "training_set.classes"
   ]
  },
  {
   "cell_type": "code",
   "execution_count": 16,
   "id": "bbbfb310",
   "metadata": {},
   "outputs": [
    {
     "name": "stderr",
     "output_type": "stream",
     "text": [
      "C:\\Users\\NETHMI~1\\AppData\\Local\\Temp/ipykernel_3208/480084177.py:1: UserWarning: `Model.fit_generator` is deprecated and will be removed in a future version. Please use `Model.fit`, which supports generators.\n",
      "  r = model.fit_generator(\n"
     ]
    },
    {
     "name": "stdout",
     "output_type": "stream",
     "text": [
      "Epoch 1/35\n",
      "78/78 [==============================] - 649s 8s/step - loss: 1.5461 - accuracy: 0.4755 - val_loss: 1.2124 - val_accuracy: 0.6386\n",
      "Epoch 2/35\n",
      "78/78 [==============================] - 618s 8s/step - loss: 0.9934 - accuracy: 0.6429 - val_loss: 1.0119 - val_accuracy: 0.6265\n",
      "Epoch 3/35\n",
      "78/78 [==============================] - 617s 8s/step - loss: 0.8167 - accuracy: 0.7169 - val_loss: 0.9095 - val_accuracy: 0.6265\n",
      "Epoch 4/35\n",
      "78/78 [==============================] - 619s 8s/step - loss: 0.7124 - accuracy: 0.7404 - val_loss: 0.9414 - val_accuracy: 0.6386\n",
      "Epoch 5/35\n",
      "78/78 [==============================] - 618s 8s/step - loss: 0.6211 - accuracy: 0.7744 - val_loss: 1.0046 - val_accuracy: 0.6386\n",
      "Epoch 6/35\n",
      "78/78 [==============================] - 613s 8s/step - loss: 0.5029 - accuracy: 0.8277 - val_loss: 0.9372 - val_accuracy: 0.6747\n",
      "Epoch 7/35\n",
      "78/78 [==============================] - 1050s 14s/step - loss: 0.4629 - accuracy: 0.8427 - val_loss: 1.0913 - val_accuracy: 0.6265\n",
      "Epoch 8/35\n",
      "78/78 [==============================] - 650s 8s/step - loss: 0.4803 - accuracy: 0.8306 - val_loss: 1.1961 - val_accuracy: 0.6386\n",
      "Epoch 9/35\n",
      "78/78 [==============================] - 682s 9s/step - loss: 0.3911 - accuracy: 0.8714 - val_loss: 1.0664 - val_accuracy: 0.6386\n",
      "Epoch 10/35\n",
      "78/78 [==============================] - 712s 9s/step - loss: 0.3760 - accuracy: 0.8742 - val_loss: 1.1661 - val_accuracy: 0.6386\n",
      "Epoch 11/35\n",
      "78/78 [==============================] - 756s 10s/step - loss: 0.3843 - accuracy: 0.8702 - val_loss: 1.0885 - val_accuracy: 0.6145\n",
      "Epoch 12/35\n",
      "78/78 [==============================] - 884s 11s/step - loss: 0.3320 - accuracy: 0.8961 - val_loss: 1.0875 - val_accuracy: 0.6506\n",
      "Epoch 13/35\n",
      "78/78 [==============================] - 767s 10s/step - loss: 0.3102 - accuracy: 0.9030 - val_loss: 0.9906 - val_accuracy: 0.6867\n",
      "Epoch 14/35\n",
      "78/78 [==============================] - 763s 10s/step - loss: 0.3143 - accuracy: 0.8912 - val_loss: 1.2122 - val_accuracy: 0.6506\n",
      "Epoch 15/35\n",
      "78/78 [==============================] - 715s 9s/step - loss: 0.2724 - accuracy: 0.9147 - val_loss: 1.1397 - val_accuracy: 0.6627\n",
      "Epoch 16/35\n",
      "78/78 [==============================] - 859s 11s/step - loss: 0.2413 - accuracy: 0.9296 - val_loss: 1.1967 - val_accuracy: 0.6627\n",
      "Epoch 17/35\n",
      "78/78 [==============================] - 970s 12s/step - loss: 0.2551 - accuracy: 0.9159 - val_loss: 1.2023 - val_accuracy: 0.6386\n",
      "Epoch 18/35\n",
      "78/78 [==============================] - 1009s 13s/step - loss: 0.2538 - accuracy: 0.9203 - val_loss: 1.2446 - val_accuracy: 0.6386\n",
      "Epoch 19/35\n",
      "78/78 [==============================] - 1204s 15s/step - loss: 0.2292 - accuracy: 0.9264 - val_loss: 1.0179 - val_accuracy: 0.6867\n",
      "Epoch 20/35\n",
      "78/78 [==============================] - 1353s 17s/step - loss: 0.2392 - accuracy: 0.9232 - val_loss: 1.1195 - val_accuracy: 0.6506\n",
      "Epoch 21/35\n",
      "78/78 [==============================] - 750s 10s/step - loss: 0.1849 - accuracy: 0.9462 - val_loss: 1.1415 - val_accuracy: 0.6506\n",
      "Epoch 22/35\n",
      "78/78 [==============================] - 771s 10s/step - loss: 0.2060 - accuracy: 0.9341 - val_loss: 1.3745 - val_accuracy: 0.6386\n",
      "Epoch 23/35\n",
      "78/78 [==============================] - 773s 10s/step - loss: 0.2009 - accuracy: 0.9422 - val_loss: 1.3260 - val_accuracy: 0.6386\n",
      "Epoch 24/35\n",
      "78/78 [==============================] - 759s 10s/step - loss: 0.2262 - accuracy: 0.9236 - val_loss: 1.4467 - val_accuracy: 0.6386\n",
      "Epoch 25/35\n",
      "78/78 [==============================] - 811s 10s/step - loss: 0.2196 - accuracy: 0.9284 - val_loss: 1.2422 - val_accuracy: 0.6627\n",
      "Epoch 26/35\n",
      "78/78 [==============================] - 761s 10s/step - loss: 0.1866 - accuracy: 0.9414 - val_loss: 1.5350 - val_accuracy: 0.6386\n",
      "Epoch 27/35\n",
      "78/78 [==============================] - 738s 9s/step - loss: 0.1808 - accuracy: 0.9438 - val_loss: 1.1255 - val_accuracy: 0.6386\n",
      "Epoch 28/35\n",
      "78/78 [==============================] - 710s 9s/step - loss: 0.1520 - accuracy: 0.9555 - val_loss: 1.1792 - val_accuracy: 0.6867\n",
      "Epoch 29/35\n",
      "78/78 [==============================] - 687s 9s/step - loss: 0.1486 - accuracy: 0.9551 - val_loss: 1.1464 - val_accuracy: 0.6747\n",
      "Epoch 30/35\n",
      "78/78 [==============================] - 370s 5s/step - loss: 0.1363 - accuracy: 0.9656 - val_loss: 1.1038 - val_accuracy: 0.6506\n",
      "Epoch 31/35\n",
      "78/78 [==============================] - 364s 5s/step - loss: 0.1352 - accuracy: 0.9543 - val_loss: 1.1681 - val_accuracy: 0.6867\n",
      "Epoch 32/35\n",
      "78/78 [==============================] - 354s 5s/step - loss: 0.1766 - accuracy: 0.9454 - val_loss: 1.3256 - val_accuracy: 0.6747\n",
      "Epoch 33/35\n",
      "78/78 [==============================] - 358s 5s/step - loss: 0.1936 - accuracy: 0.9418 - val_loss: 1.2737 - val_accuracy: 0.6506\n",
      "Epoch 34/35\n",
      "78/78 [==============================] - 361s 5s/step - loss: 0.1504 - accuracy: 0.9543 - val_loss: 1.5435 - val_accuracy: 0.6265\n",
      "Epoch 35/35\n",
      "78/78 [==============================] - 365s 5s/step - loss: 0.1412 - accuracy: 0.9584 - val_loss: 1.1217 - val_accuracy: 0.6988\n"
     ]
    }
   ],
   "source": [
    "r = model.fit_generator(\n",
    "  training_set,\n",
    "  validation_data=testing_set,\n",
    "  epochs=35,\n",
    "  steps_per_epoch=len(training_set),\n",
    "  validation_steps=len(testing_set)\n",
    ")"
   ]
  },
  {
   "cell_type": "code",
   "execution_count": 17,
   "id": "28de5d62",
   "metadata": {},
   "outputs": [],
   "source": [
    "from tensorflow.keras.models import load_model\n",
    "model.save('cobrashot_model.h5')"
   ]
  },
  {
   "cell_type": "code",
   "execution_count": 18,
   "id": "36796d12",
   "metadata": {},
   "outputs": [],
   "source": [
    "from keras.models import load_model\n",
    "cobrashot_model = load_model('cobrashot_model.h5')"
   ]
  },
  {
   "cell_type": "code",
   "execution_count": 19,
   "id": "a2755132",
   "metadata": {},
   "outputs": [
    {
     "ename": "AttributeError",
     "evalue": "'NoneType' object has no attribute 'keys'",
     "output_type": "error",
     "traceback": [
      "\u001b[1;31m---------------------------------------------------------------------------\u001b[0m",
      "\u001b[1;31mAttributeError\u001b[0m                            Traceback (most recent call last)",
      "\u001b[1;32mC:\\Users\\NETHMI~1\\AppData\\Local\\Temp/ipykernel_3208/1699871288.py\u001b[0m in \u001b[0;36m<module>\u001b[1;34m\u001b[0m\n\u001b[0;32m      2\u001b[0m \u001b[0mget_ipython\u001b[0m\u001b[1;33m(\u001b[0m\u001b[1;33m)\u001b[0m\u001b[1;33m.\u001b[0m\u001b[0mrun_line_magic\u001b[0m\u001b[1;33m(\u001b[0m\u001b[1;34m'matplotlib'\u001b[0m\u001b[1;33m,\u001b[0m \u001b[1;34m'inline'\u001b[0m\u001b[1;33m)\u001b[0m\u001b[1;33m\u001b[0m\u001b[1;33m\u001b[0m\u001b[0m\n\u001b[0;32m      3\u001b[0m \u001b[1;31m#list all data in training\u001b[0m\u001b[1;33m\u001b[0m\u001b[1;33m\u001b[0m\u001b[0m\n\u001b[1;32m----> 4\u001b[1;33m \u001b[0mprint\u001b[0m\u001b[1;33m(\u001b[0m\u001b[0mcobrashot_model\u001b[0m\u001b[1;33m.\u001b[0m\u001b[0mhistory\u001b[0m\u001b[1;33m.\u001b[0m\u001b[0mkeys\u001b[0m\u001b[1;33m(\u001b[0m\u001b[1;33m)\u001b[0m\u001b[1;33m)\u001b[0m\u001b[1;33m\u001b[0m\u001b[1;33m\u001b[0m\u001b[0m\n\u001b[0m\u001b[0;32m      5\u001b[0m \u001b[1;31m# summarize training for accuracy\u001b[0m\u001b[1;33m\u001b[0m\u001b[1;33m\u001b[0m\u001b[0m\n\u001b[0;32m      6\u001b[0m \u001b[0mplt\u001b[0m\u001b[1;33m.\u001b[0m\u001b[0mplot\u001b[0m\u001b[1;33m(\u001b[0m\u001b[0mcobrashot_model\u001b[0m\u001b[1;33m.\u001b[0m\u001b[0mhistory\u001b[0m\u001b[1;33m[\u001b[0m\u001b[1;34m'accuracy'\u001b[0m\u001b[1;33m]\u001b[0m\u001b[1;33m)\u001b[0m\u001b[1;33m\u001b[0m\u001b[1;33m\u001b[0m\u001b[0m\n",
      "\u001b[1;31mAttributeError\u001b[0m: 'NoneType' object has no attribute 'keys'"
     ]
    }
   ],
   "source": [
    "import matplotlib.pyplot as plt\n",
    "%matplotlib inline\n",
    "#list all data in training\n",
    "print(cobrashot_model.history.keys())\n",
    "# summarize training for accuracy\n",
    "plt.plot(cobrashot_model.history['accuracy'])\n",
    "plt.plot(cobrashot_model.history['val_accuracy'])\n",
    "plt.title('Accuracy graph')\n",
    "plt.xlabel('epoch')\n",
    "plt.ylabel('accuracy')\n",
    "plt.legend(['train','test'], loc='upper left')\n",
    "plt.show()\n",
    "\n",
    "# summarize training for loss\n",
    "plt.plot(cobrashot_model.history['loss'])\n",
    "plt.plot(cobrashot_model.history['val_loss'])\n",
    "plt.title('Loss graph')\n",
    "plt.xlabel('epoch')\n",
    "plt.ylabel('loss')\n",
    "plt.legend(['train','test'], loc='upper left')\n",
    "plt.show()"
   ]
  }
 ],
 "metadata": {
  "kernelspec": {
   "display_name": "Python 3 (ipykernel)",
   "language": "python",
   "name": "python3"
  },
  "language_info": {
   "codemirror_mode": {
    "name": "ipython",
    "version": 3
   },
   "file_extension": ".py",
   "mimetype": "text/x-python",
   "name": "python",
   "nbconvert_exporter": "python",
   "pygments_lexer": "ipython3",
   "version": "3.9.7"
  }
 },
 "nbformat": 4,
 "nbformat_minor": 5
}
=======
{
 "cells": [
  {
   "cell_type": "code",
   "execution_count": 1,
   "id": "4d8c305b",
   "metadata": {},
   "outputs": [],
   "source": [
    "import os\n",
    "import numpy as np\n",
    "import matplotlib.pyplot as plt\n",
    "import PIL\n",
    "import cv2\n",
    "\n",
    "from tensorflow import keras\n",
    "from tensorflow.keras.models import Sequential\n",
    "from keras.applications.vgg16 import VGG16\n",
    "from keras.applications.vgg16 import preprocess_input\n",
    "from keras.preprocessing import image\n",
    "from keras.optimizers import *\n",
    "from tensorflow.keras import *\n",
    "from tensorflow.keras.layers import Dense, Conv2D, Flatten, Dropout, MaxPooling2D,BatchNormalization,Input, Lambda\n",
    "from tensorflow.keras.preprocessing.image import ImageDataGenerator"
   ]
  },
  {
   "cell_type": "code",
   "execution_count": 2,
   "id": "e050439e",
   "metadata": {},
   "outputs": [],
   "source": [
    "IMAGE_SIZE = [224, 224]"
   ]
  },
  {
   "cell_type": "code",
   "execution_count": 3,
   "id": "f958cc61",
   "metadata": {
    "scrolled": true
   },
   "outputs": [],
   "source": [
    "train_path = \"C:\\\\Users\\\\Nethmi Mohotti\\\\Desktop\\\\CobraShot\\\\Data Science\\\\dataset\\\\train\"\n",
    "test_path = \"C:\\\\Users\\\\Nethmi Mohotti\\\\Desktop\\\\CobraShot\\\\Data Science\\\\dataset\\\\testing\""
   ]
  },
  {
   "cell_type": "code",
   "execution_count": 4,
   "id": "b8d99297",
   "metadata": {},
   "outputs": [],
   "source": [
    "vgg = VGG16(input_shape=IMAGE_SIZE + [3], weights='imagenet', include_top=False)"
   ]
  },
  {
   "cell_type": "code",
   "execution_count": 5,
   "id": "98ec4915",
   "metadata": {},
   "outputs": [],
   "source": [
    "for layer in vgg.layers:\n",
    "  layer.trainable = False"
   ]
  },
  {
   "cell_type": "code",
   "execution_count": 6,
   "id": "02b37e1a",
   "metadata": {
    "scrolled": true
   },
   "outputs": [
    {
     "name": "stdout",
     "output_type": "stream",
     "text": [
      "7\n"
     ]
    }
   ],
   "source": [
    "from glob import glob\n",
    "folders = glob(\"C:\\\\Users\\\\Nethmi Mohotti\\\\Desktop\\\\CobraShot\\\\Data Science\\\\dataset\\\\train\\\\*\")\n",
    "print(len(folders))"
   ]
  },
  {
   "cell_type": "code",
   "execution_count": 7,
   "id": "2ad88592",
   "metadata": {},
   "outputs": [],
   "source": [
    "x = Flatten()(vgg.output)"
   ]
  },
  {
   "cell_type": "code",
   "execution_count": 8,
   "id": "93008c74",
   "metadata": {},
   "outputs": [],
   "source": [
    "prediction = Dense(len(folders), activation='softmax')(x)"
   ]
  },
  {
   "cell_type": "code",
   "execution_count": 9,
   "id": "1556d436",
   "metadata": {},
   "outputs": [],
   "source": [
    "model = Model(inputs=vgg.input, outputs=prediction)"
   ]
  },
  {
   "cell_type": "code",
   "execution_count": 10,
   "id": "02249b90",
   "metadata": {},
   "outputs": [
    {
     "name": "stdout",
     "output_type": "stream",
     "text": [
      "Model: \"model\"\n",
      "_________________________________________________________________\n",
      " Layer (type)                Output Shape              Param #   \n",
      "=================================================================\n",
      " input_1 (InputLayer)        [(None, 224, 224, 3)]     0         \n",
      "                                                                 \n",
      " block1_conv1 (Conv2D)       (None, 224, 224, 64)      1792      \n",
      "                                                                 \n",
      " block1_conv2 (Conv2D)       (None, 224, 224, 64)      36928     \n",
      "                                                                 \n",
      " block1_pool (MaxPooling2D)  (None, 112, 112, 64)      0         \n",
      "                                                                 \n",
      " block2_conv1 (Conv2D)       (None, 112, 112, 128)     73856     \n",
      "                                                                 \n",
      " block2_conv2 (Conv2D)       (None, 112, 112, 128)     147584    \n",
      "                                                                 \n",
      " block2_pool (MaxPooling2D)  (None, 56, 56, 128)       0         \n",
      "                                                                 \n",
      " block3_conv1 (Conv2D)       (None, 56, 56, 256)       295168    \n",
      "                                                                 \n",
      " block3_conv2 (Conv2D)       (None, 56, 56, 256)       590080    \n",
      "                                                                 \n",
      " block3_conv3 (Conv2D)       (None, 56, 56, 256)       590080    \n",
      "                                                                 \n",
      " block3_pool (MaxPooling2D)  (None, 28, 28, 256)       0         \n",
      "                                                                 \n",
      " block4_conv1 (Conv2D)       (None, 28, 28, 512)       1180160   \n",
      "                                                                 \n",
      " block4_conv2 (Conv2D)       (None, 28, 28, 512)       2359808   \n",
      "                                                                 \n",
      " block4_conv3 (Conv2D)       (None, 28, 28, 512)       2359808   \n",
      "                                                                 \n",
      " block4_pool (MaxPooling2D)  (None, 14, 14, 512)       0         \n",
      "                                                                 \n",
      " block5_conv1 (Conv2D)       (None, 14, 14, 512)       2359808   \n",
      "                                                                 \n",
      " block5_conv2 (Conv2D)       (None, 14, 14, 512)       2359808   \n",
      "                                                                 \n",
      " block5_conv3 (Conv2D)       (None, 14, 14, 512)       2359808   \n",
      "                                                                 \n",
      " block5_pool (MaxPooling2D)  (None, 7, 7, 512)         0         \n",
      "                                                                 \n",
      " flatten (Flatten)           (None, 25088)             0         \n",
      "                                                                 \n",
      " dense (Dense)               (None, 7)                 175623    \n",
      "                                                                 \n",
      "=================================================================\n",
      "Total params: 14,890,311\n",
      "Trainable params: 175,623\n",
      "Non-trainable params: 14,714,688\n",
      "_________________________________________________________________\n"
     ]
    }
   ],
   "source": [
    "model.summary()"
   ]
  },
  {
   "cell_type": "code",
   "execution_count": 11,
   "id": "f5a6d750",
   "metadata": {},
   "outputs": [],
   "source": [
    "model.compile(\n",
    "  loss='categorical_crossentropy',\n",
    "  optimizer='adam',\n",
    "  metrics=['accuracy']\n",
    ")"
   ]
  },
  {
   "cell_type": "code",
   "execution_count": 12,
   "id": "ead1fad3",
   "metadata": {},
   "outputs": [],
   "source": [
    "train_dataset = ImageDataGenerator(rescale = 1./255,\n",
    "                                   shear_range = 0.2,\n",
    "                                   zoom_range = 0.2,\n",
    "                                   horizontal_flip = True)\n",
    "\n",
    "test_dataset = ImageDataGenerator(rescale = 1./255)"
   ]
  },
  {
   "cell_type": "code",
   "execution_count": 13,
   "id": "827ccc30",
   "metadata": {},
   "outputs": [
    {
     "name": "stdout",
     "output_type": "stream",
     "text": [
      "Found 2473 images belonging to 7 classes.\n",
      "Found 83 images belonging to 7 classes.\n"
     ]
    }
   ],
   "source": [
    "training_set = train_dataset.flow_from_directory(train_path,\n",
    "                                                 target_size = (224, 224),\n",
    "                                                 batch_size = 32,\n",
    "                                                 class_mode = 'categorical')\n",
    "\n",
    "testing_set = test_dataset.flow_from_directory(test_path, \n",
    "                                                 target_size = (224, 224),\n",
    "                                                 batch_size = 32,\n",
    "                                                 class_mode = 'categorical')"
   ]
  },
  {
   "cell_type": "code",
   "execution_count": 14,
   "id": "5d090a09",
   "metadata": {
    "scrolled": true
   },
   "outputs": [
    {
     "data": {
      "text/plain": [
       "{'Black rat snake': 0,\n",
       " 'Common garter snake': 1,\n",
       " 'Common watersnake': 2,\n",
       " \"Russell's Viper\": 3,\n",
       " 'Saw-scaled Viper': 4,\n",
       " 'Spectacled Cobra': 5,\n",
       " 'Western diamondback rattlesnake': 6}"
      ]
     },
     "execution_count": 14,
     "metadata": {},
     "output_type": "execute_result"
    }
   ],
   "source": [
    "training_set.class_indices"
   ]
  },
  {
   "cell_type": "code",
   "execution_count": 15,
   "id": "2c90c242",
   "metadata": {
    "scrolled": true
   },
   "outputs": [
    {
     "data": {
      "text/plain": [
       "array([0, 0, 0, ..., 6, 6, 6])"
      ]
     },
     "execution_count": 15,
     "metadata": {},
     "output_type": "execute_result"
    }
   ],
   "source": [
    "training_set.classes"
   ]
  },
  {
   "cell_type": "code",
   "execution_count": 16,
   "id": "bbbfb310",
   "metadata": {},
   "outputs": [
    {
     "name": "stdout",
     "output_type": "stream",
     "text": [
      "Epoch 1/35\n",
      "78/78 [==============================] - 381s 5s/step - loss: 1.6409 - accuracy: 0.4658 - val_loss: 1.2503 - val_accuracy: 0.5663\n",
      "Epoch 2/35\n",
      "78/78 [==============================] - 402s 5s/step - loss: 0.9728 - accuracy: 0.6470 - val_loss: 1.1549 - val_accuracy: 0.5904\n",
      "Epoch 3/35\n",
      "78/78 [==============================] - 383s 5s/step - loss: 0.8244 - accuracy: 0.6996 - val_loss: 1.0963 - val_accuracy: 0.5783\n",
      "Epoch 4/35\n",
      "78/78 [==============================] - 363s 5s/step - loss: 0.6893 - accuracy: 0.7590 - val_loss: 1.0448 - val_accuracy: 0.6506\n",
      "Epoch 5/35\n",
      "78/78 [==============================] - 402s 5s/step - loss: 0.6766 - accuracy: 0.7440 - val_loss: 1.0753 - val_accuracy: 0.6145\n",
      "Epoch 6/35\n",
      "78/78 [==============================] - 404s 5s/step - loss: 0.5442 - accuracy: 0.8035 - val_loss: 1.0255 - val_accuracy: 0.6627\n",
      "Epoch 7/35\n",
      "78/78 [==============================] - 420s 5s/step - loss: 0.4720 - accuracy: 0.8374 - val_loss: 0.8984 - val_accuracy: 0.6506\n",
      "Epoch 8/35\n",
      "78/78 [==============================] - 393s 5s/step - loss: 0.4434 - accuracy: 0.8439 - val_loss: 0.8945 - val_accuracy: 0.6386\n",
      "Epoch 9/35\n",
      "78/78 [==============================] - 391s 5s/step - loss: 0.4461 - accuracy: 0.8443 - val_loss: 1.0771 - val_accuracy: 0.6024\n",
      "Epoch 10/35\n",
      "78/78 [==============================] - 500s 6s/step - loss: 0.3810 - accuracy: 0.8613 - val_loss: 1.0020 - val_accuracy: 0.6265\n",
      "Epoch 11/35\n",
      "78/78 [==============================] - 542s 7s/step - loss: 0.3611 - accuracy: 0.8839 - val_loss: 0.8222 - val_accuracy: 0.7108\n",
      "Epoch 12/35\n",
      "78/78 [==============================] - 553s 7s/step - loss: 0.3203 - accuracy: 0.8924 - val_loss: 0.8908 - val_accuracy: 0.6867\n",
      "Epoch 13/35\n",
      "78/78 [==============================] - 560s 7s/step - loss: 0.3330 - accuracy: 0.8989 - val_loss: 1.0014 - val_accuracy: 0.6867\n",
      "Epoch 14/35\n",
      "78/78 [==============================] - 9305s 121s/step - loss: 0.3127 - accuracy: 0.8973 - val_loss: 0.9118 - val_accuracy: 0.6988\n",
      "Epoch 15/35\n",
      "78/78 [==============================] - 497s 6s/step - loss: 0.2842 - accuracy: 0.9013 - val_loss: 0.9030 - val_accuracy: 0.6988\n",
      "Epoch 16/35\n",
      "78/78 [==============================] - 535s 7s/step - loss: 0.2626 - accuracy: 0.9118 - val_loss: 1.0107 - val_accuracy: 0.6867\n",
      "Epoch 17/35\n",
      "78/78 [==============================] - 567s 7s/step - loss: 0.2628 - accuracy: 0.9163 - val_loss: 1.0462 - val_accuracy: 0.6506\n",
      "Epoch 18/35\n",
      "78/78 [==============================] - 593s 8s/step - loss: 0.2318 - accuracy: 0.9268 - val_loss: 0.9111 - val_accuracy: 0.6747\n",
      "Epoch 19/35\n",
      "78/78 [==============================] - 610s 8s/step - loss: 0.2374 - accuracy: 0.9272 - val_loss: 0.9400 - val_accuracy: 0.6747\n",
      "Epoch 20/35\n",
      "78/78 [==============================] - 532s 7s/step - loss: 0.2185 - accuracy: 0.9309 - val_loss: 0.8460 - val_accuracy: 0.7229\n",
      "Epoch 21/35\n",
      "78/78 [==============================] - 364s 5s/step - loss: 0.2178 - accuracy: 0.9260 - val_loss: 0.9145 - val_accuracy: 0.7108\n",
      "Epoch 22/35\n",
      "78/78 [==============================] - 379s 5s/step - loss: 0.2254 - accuracy: 0.9260 - val_loss: 1.1685 - val_accuracy: 0.6627\n",
      "Epoch 23/35\n",
      "78/78 [==============================] - 373s 5s/step - loss: 0.1985 - accuracy: 0.9365 - val_loss: 0.9959 - val_accuracy: 0.6867\n",
      "Epoch 24/35\n",
      "78/78 [==============================] - 402s 5s/step - loss: 0.1961 - accuracy: 0.9422 - val_loss: 1.1723 - val_accuracy: 0.6867\n",
      "Epoch 25/35\n",
      "78/78 [==============================] - 394s 5s/step - loss: 0.2071 - accuracy: 0.9393 - val_loss: 0.8756 - val_accuracy: 0.7108\n",
      "Epoch 26/35\n",
      "78/78 [==============================] - 373s 5s/step - loss: 0.1895 - accuracy: 0.9373 - val_loss: 1.0279 - val_accuracy: 0.6988\n",
      "Epoch 27/35\n",
      "78/78 [==============================] - 366s 5s/step - loss: 0.1583 - accuracy: 0.9490 - val_loss: 1.2115 - val_accuracy: 0.6867\n",
      "Epoch 28/35\n",
      "78/78 [==============================] - 355s 5s/step - loss: 0.1378 - accuracy: 0.9660 - val_loss: 0.9882 - val_accuracy: 0.7229\n",
      "Epoch 29/35\n",
      "78/78 [==============================] - 351s 4s/step - loss: 0.1404 - accuracy: 0.9612 - val_loss: 0.8635 - val_accuracy: 0.7229\n",
      "Epoch 30/35\n",
      "78/78 [==============================] - 345s 4s/step - loss: 0.1531 - accuracy: 0.9543 - val_loss: 0.9969 - val_accuracy: 0.6988\n",
      "Epoch 31/35\n",
      "78/78 [==============================] - 345s 4s/step - loss: 0.1256 - accuracy: 0.9672 - val_loss: 1.0920 - val_accuracy: 0.6747\n",
      "Epoch 32/35\n",
      "78/78 [==============================] - 343s 4s/step - loss: 0.1472 - accuracy: 0.9519 - val_loss: 0.9736 - val_accuracy: 0.6867\n",
      "Epoch 33/35\n",
      "78/78 [==============================] - 343s 4s/step - loss: 0.1392 - accuracy: 0.9579 - val_loss: 1.0187 - val_accuracy: 0.7229\n",
      "Epoch 34/35\n",
      "78/78 [==============================] - 344s 4s/step - loss: 0.1372 - accuracy: 0.9624 - val_loss: 1.0697 - val_accuracy: 0.7229\n",
      "Epoch 35/35\n",
      "78/78 [==============================] - 331s 4s/step - loss: 0.1266 - accuracy: 0.9648 - val_loss: 1.1496 - val_accuracy: 0.6867\n"
     ]
    }
   ],
   "source": [
    "cobrashot_model = model.fit(\n",
    "  training_set,\n",
    "  validation_data=testing_set,\n",
    "  epochs=35,\n",
    "  steps_per_epoch=len(training_set),\n",
    "  validation_steps=len(testing_set)\n",
    ")"
   ]
  },
  {
   "cell_type": "code",
   "execution_count": 17,
   "id": "979cbcd4",
   "metadata": {},
   "outputs": [
    {
     "name": "stdout",
     "output_type": "stream",
     "text": [
      "dict_keys(['loss', 'accuracy', 'val_loss', 'val_accuracy'])\n"
     ]
    }
   ],
   "source": [
    "#list all data in training\n",
    "print(cobrashot_model.history.keys())"
   ]
  },
  {
   "cell_type": "code",
   "execution_count": 18,
   "id": "f69efa51",
   "metadata": {},
   "outputs": [
    {
     "data": {
      "image/png": "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\n",
      "text/plain": [
       "<Figure size 432x288 with 1 Axes>"
      ]
     },
     "metadata": {
      "needs_background": "light"
     },
     "output_type": "display_data"
    }
   ],
   "source": [
    "# summarize training for accuracy\n",
    "plt.plot(cobrashot_model.history['accuracy'])\n",
    "plt.plot(cobrashot_model.history['val_accuracy'])\n",
    "plt.title('Accuracy graph')\n",
    "plt.xlabel('epoch')\n",
    "plt.ylabel('accuracy')\n",
    "plt.legend(['train','test'], loc='upper left')\n",
    "plt.show()"
   ]
  },
  {
   "cell_type": "code",
   "execution_count": 19,
   "id": "6c35e4f2",
   "metadata": {},
   "outputs": [
    {
     "data": {
      "image/png": "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\n",
      "text/plain": [
       "<Figure size 432x288 with 1 Axes>"
      ]
     },
     "metadata": {
      "needs_background": "light"
     },
     "output_type": "display_data"
    }
   ],
   "source": [
    "# summarize training for loss\n",
    "plt.plot(cobrashot_model.history['loss'])\n",
    "plt.plot(cobrashot_model.history['val_loss'])\n",
    "plt.title('Loss graph')\n",
    "plt.xlabel('epoch')\n",
    "plt.ylabel('loss')\n",
    "plt.legend(['train','test'], loc='upper left')\n",
    "plt.show()"
   ]
  },
  {
   "cell_type": "code",
   "execution_count": 20,
   "id": "28de5d62",
   "metadata": {},
   "outputs": [],
   "source": [
    "from tensorflow.keras.models import load_model\n",
    "model.save('cobrashot_model.h5')"
   ]
  },
  {
   "cell_type": "code",
   "execution_count": 21,
   "id": "36796d12",
   "metadata": {},
   "outputs": [],
   "source": [
    "from keras.models import load_model\n",
    "cobrashot_model = load_model('cobrashot_model.h5')"
   ]
  }
 ],
 "metadata": {
  "kernelspec": {
   "display_name": "Python 3 (ipykernel)",
   "language": "python",
   "name": "python3"
  },
  "language_info": {
   "codemirror_mode": {
    "name": "ipython",
    "version": 3
   },
   "file_extension": ".py",
   "mimetype": "text/x-python",
   "name": "python",
   "nbconvert_exporter": "python",
   "pygments_lexer": "ipython3",
   "version": "3.9.7"
  }
 },
 "nbformat": 4,
 "nbformat_minor": 5
}
>>>>>>> Stashed changes
