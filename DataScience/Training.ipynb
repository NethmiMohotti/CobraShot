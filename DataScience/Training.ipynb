{
 "cells": [
  {
   "cell_type": "code",
   "execution_count": 1,
   "id": "4d8c305b",
   "metadata": {},
   "outputs": [],
   "source": [
    "import os\n",
    "import numpy as np\n",
    "import matplotlib.pyplot as plt\n",
    "import PIL\n",
    "import cv2\n",
    "\n",
    "from tensorflow import keras\n",
    "from tensorflow.keras.models import Sequential\n",
    "from keras.applications.vgg16 import VGG16\n",
    "from keras.applications.vgg16 import preprocess_input\n",
    "from keras.preprocessing import image\n",
    "from keras.optimizers import *\n",
    "from tensorflow.keras import *\n",
    "from tensorflow.keras.layers import Dense, Conv2D, Flatten, Dropout, MaxPooling2D,BatchNormalization,Input, Lambda\n",
    "from tensorflow.keras.preprocessing.image import ImageDataGenerator"
   ]
  },
  {
   "cell_type": "code",
   "execution_count": 2,
   "id": "e050439e",
   "metadata": {},
   "outputs": [],
   "source": [
    "IMAGE_SIZE = [224, 224]"
   ]
  },
  {
   "cell_type": "code",
   "execution_count": 3,
   "id": "f958cc61",
   "metadata": {
    "scrolled": true
   },
   "outputs": [],
   "source": [
    "train_path = \"C:\\\\Users\\\\Nethmi Mohotti\\\\Desktop\\\\CobraShot\\\\Data Science\\\\dataset\\\\train\"\n",
    "test_path = \"C:\\\\Users\\\\Nethmi Mohotti\\\\Desktop\\\\CobraShot\\\\Data Science\\\\dataset\\\\testing\""
   ]
  },
  {
   "cell_type": "code",
   "execution_count": 4,
   "id": "b8d99297",
   "metadata": {},
   "outputs": [],
   "source": [
    "vgg = VGG16(input_shape=IMAGE_SIZE + [3], weights='imagenet', include_top=False)"
   ]
  },
  {
   "cell_type": "code",
   "execution_count": 5,
   "id": "98ec4915",
   "metadata": {},
   "outputs": [],
   "source": [
    "for layer in vgg.layers:\n",
    "  layer.trainable = False"
   ]
  },
  {
   "cell_type": "code",
   "execution_count": 6,
   "id": "02b37e1a",
   "metadata": {
    "scrolled": true
   },
   "outputs": [
    {
     "name": "stdout",
     "output_type": "stream",
     "text": [
      "7\n"
     ]
    }
   ],
   "source": [
    "from glob import glob\n",
    "folders = glob(\"C:\\\\Users\\\\Nethmi Mohotti\\\\Desktop\\\\CobraShot\\\\Data Science\\\\dataset\\\\train\\\\*\")\n",
    "print(len(folders))"
   ]
  },
  {
   "cell_type": "code",
   "execution_count": 7,
   "id": "2ad88592",
   "metadata": {},
   "outputs": [],
   "source": [
    "x = Flatten()(vgg.output)"
   ]
  },
  {
   "cell_type": "code",
   "execution_count": 8,
   "id": "93008c74",
   "metadata": {},
   "outputs": [],
   "source": [
    "prediction = Dense(len(folders), activation='softmax')(x)"
   ]
  },
  {
   "cell_type": "code",
   "execution_count": 9,
   "id": "1556d436",
   "metadata": {},
   "outputs": [],
   "source": [
    "model = Model(inputs=vgg.input, outputs=prediction)"
   ]
  },
  {
   "cell_type": "code",
   "execution_count": 10,
   "id": "02249b90",
   "metadata": {},
   "outputs": [
    {
     "name": "stdout",
     "output_type": "stream",
     "text": [
      "Model: \"model\"\n",
      "_________________________________________________________________\n",
      " Layer (type)                Output Shape              Param #   \n",
      "=================================================================\n",
      " input_1 (InputLayer)        [(None, 224, 224, 3)]     0         \n",
      "                                                                 \n",
      " block1_conv1 (Conv2D)       (None, 224, 224, 64)      1792      \n",
      "                                                                 \n",
      " block1_conv2 (Conv2D)       (None, 224, 224, 64)      36928     \n",
      "                                                                 \n",
      " block1_pool (MaxPooling2D)  (None, 112, 112, 64)      0         \n",
      "                                                                 \n",
      " block2_conv1 (Conv2D)       (None, 112, 112, 128)     73856     \n",
      "                                                                 \n",
      " block2_conv2 (Conv2D)       (None, 112, 112, 128)     147584    \n",
      "                                                                 \n",
      " block2_pool (MaxPooling2D)  (None, 56, 56, 128)       0         \n",
      "                                                                 \n",
      " block3_conv1 (Conv2D)       (None, 56, 56, 256)       295168    \n",
      "                                                                 \n",
      " block3_conv2 (Conv2D)       (None, 56, 56, 256)       590080    \n",
      "                                                                 \n",
      " block3_conv3 (Conv2D)       (None, 56, 56, 256)       590080    \n",
      "                                                                 \n",
      " block3_pool (MaxPooling2D)  (None, 28, 28, 256)       0         \n",
      "                                                                 \n",
      " block4_conv1 (Conv2D)       (None, 28, 28, 512)       1180160   \n",
      "                                                                 \n",
      " block4_conv2 (Conv2D)       (None, 28, 28, 512)       2359808   \n",
      "                                                                 \n",
      " block4_conv3 (Conv2D)       (None, 28, 28, 512)       2359808   \n",
      "                                                                 \n",
      " block4_pool (MaxPooling2D)  (None, 14, 14, 512)       0         \n",
      "                                                                 \n",
      " block5_conv1 (Conv2D)       (None, 14, 14, 512)       2359808   \n",
      "                                                                 \n",
      " block5_conv2 (Conv2D)       (None, 14, 14, 512)       2359808   \n",
      "                                                                 \n",
      " block5_conv3 (Conv2D)       (None, 14, 14, 512)       2359808   \n",
      "                                                                 \n",
      " block5_pool (MaxPooling2D)  (None, 7, 7, 512)         0         \n",
      "                                                                 \n",
      " flatten (Flatten)           (None, 25088)             0         \n",
      "                                                                 \n",
      " dense (Dense)               (None, 7)                 175623    \n",
      "                                                                 \n",
      "=================================================================\n",
      "Total params: 14,890,311\n",
      "Trainable params: 175,623\n",
      "Non-trainable params: 14,714,688\n",
      "_________________________________________________________________\n"
     ]
    }
   ],
   "source": [
    "model.summary()"
   ]
  },
  {
   "cell_type": "code",
   "execution_count": 11,
   "id": "f5a6d750",
   "metadata": {},
   "outputs": [],
   "source": [
    "model.compile(\n",
    "  loss='categorical_crossentropy',\n",
    "  optimizer='adam',\n",
    "  metrics=['accuracy']\n",
    ")"
   ]
  },
  {
   "cell_type": "code",
   "execution_count": 12,
   "id": "ead1fad3",
   "metadata": {},
   "outputs": [],
   "source": [
    "train_dataset = ImageDataGenerator(rescale = 1./255,\n",
    "                                   shear_range = 0.2,\n",
    "                                   zoom_range = 0.2,\n",
    "                                   horizontal_flip = True)\n",
    "\n",
    "test_dataset = ImageDataGenerator(rescale = 1./255)"
   ]
  },
  {
   "cell_type": "code",
   "execution_count": 13,
   "id": "827ccc30",
   "metadata": {},
   "outputs": [
    {
     "name": "stdout",
     "output_type": "stream",
     "text": [
      "Found 2473 images belonging to 7 classes.\n",
      "Found 83 images belonging to 7 classes.\n"
     ]
    }
   ],
   "source": [
    "training_set = train_dataset.flow_from_directory(train_path,\n",
    "                                                 target_size = (224, 224),\n",
    "                                                 batch_size = 32,\n",
    "                                                 class_mode = 'categorical')\n",
    "\n",
    "testing_set = test_dataset.flow_from_directory(test_path, \n",
    "                                                 target_size = (224, 224),\n",
    "                                                 batch_size = 32,\n",
    "                                                 class_mode = 'categorical')"
   ]
  },
  {
   "cell_type": "code",
   "execution_count": 14,
   "id": "5d090a09",
   "metadata": {
    "scrolled": false
   },
   "outputs": [
    {
     "data": {
      "text/plain": [
       "{'Black rat snake': 0,\n",
       " 'Common garter snake': 1,\n",
       " 'Common watersnake': 2,\n",
       " \"Russell's Viper\": 3,\n",
       " 'Saw-scaled Viper': 4,\n",
       " 'Spectacled Cobra': 5,\n",
       " 'Western diamondback rattlesnake': 6}"
      ]
     },
     "execution_count": 14,
     "metadata": {},
     "output_type": "execute_result"
    }
   ],
   "source": [
    "training_set.class_indices"
   ]
  },
  {
   "cell_type": "code",
   "execution_count": 15,
   "id": "2c90c242",
   "metadata": {
    "scrolled": true
   },
   "outputs": [
    {
     "data": {
      "text/plain": [
       "array([0, 0, 0, ..., 6, 6, 6])"
      ]
     },
     "execution_count": 15,
     "metadata": {},
     "output_type": "execute_result"
    }
   ],
   "source": [
    "training_set.classes"
   ]
  },
  {
   "cell_type": "code",
   "execution_count": 16,
   "id": "bbbfb310",
   "metadata": {},
   "outputs": [
    {
     "name": "stdout",
     "output_type": "stream",
     "text": [
      "Epoch 1/35\n",
      "78/78 [==============================] - 591s 8s/step - loss: 1.5378 - accuracy: 0.4800 - val_loss: 1.1176 - val_accuracy: 0.5542\n",
      "Epoch 2/35\n",
      "78/78 [==============================] - 601s 8s/step - loss: 0.9797 - accuracy: 0.6466 - val_loss: 1.0372 - val_accuracy: 0.6386\n",
      "Epoch 3/35\n",
      "78/78 [==============================] - 549s 7s/step - loss: 0.8396 - accuracy: 0.6992 - val_loss: 0.8538 - val_accuracy: 0.6988\n",
      "Epoch 4/35\n",
      "78/78 [==============================] - 360s 5s/step - loss: 0.7506 - accuracy: 0.7368 - val_loss: 1.3564 - val_accuracy: 0.6506\n",
      "Epoch 5/35\n",
      "78/78 [==============================] - 341s 4s/step - loss: 0.7151 - accuracy: 0.7525 - val_loss: 0.8868 - val_accuracy: 0.6988\n",
      "Epoch 6/35\n",
      "78/78 [==============================] - 347s 4s/step - loss: 0.5456 - accuracy: 0.8015 - val_loss: 0.8463 - val_accuracy: 0.6627\n",
      "Epoch 7/35\n",
      "78/78 [==============================] - 353s 5s/step - loss: 0.4799 - accuracy: 0.8334 - val_loss: 0.9271 - val_accuracy: 0.6747\n",
      "Epoch 8/35\n",
      "78/78 [==============================] - 357s 5s/step - loss: 0.5002 - accuracy: 0.8192 - val_loss: 0.9445 - val_accuracy: 0.6867\n",
      "Epoch 9/35\n",
      "78/78 [==============================] - 353s 5s/step - loss: 0.4267 - accuracy: 0.8560 - val_loss: 1.0626 - val_accuracy: 0.6627\n",
      "Epoch 10/35\n",
      "78/78 [==============================] - 358s 5s/step - loss: 0.3824 - accuracy: 0.8605 - val_loss: 0.9565 - val_accuracy: 0.6747\n",
      "Epoch 11/35\n",
      "78/78 [==============================] - 348s 4s/step - loss: 0.3824 - accuracy: 0.8722 - val_loss: 1.0204 - val_accuracy: 0.6627\n",
      "Epoch 12/35\n",
      "78/78 [==============================] - 358s 5s/step - loss: 0.3260 - accuracy: 0.8900 - val_loss: 0.9121 - val_accuracy: 0.6506\n",
      "Epoch 13/35\n",
      "78/78 [==============================] - 358s 5s/step - loss: 0.3197 - accuracy: 0.8912 - val_loss: 1.0921 - val_accuracy: 0.6747\n",
      "Epoch 14/35\n",
      "78/78 [==============================] - 347s 4s/step - loss: 0.3215 - accuracy: 0.8892 - val_loss: 1.0743 - val_accuracy: 0.6867\n",
      "Epoch 15/35\n",
      "78/78 [==============================] - 365s 5s/step - loss: 0.2799 - accuracy: 0.9078 - val_loss: 1.0816 - val_accuracy: 0.6506\n",
      "Epoch 16/35\n",
      "78/78 [==============================] - 362s 5s/step - loss: 0.2448 - accuracy: 0.9211 - val_loss: 0.8839 - val_accuracy: 0.6747\n",
      "Epoch 17/35\n",
      "78/78 [==============================] - 375s 5s/step - loss: 0.2853 - accuracy: 0.9062 - val_loss: 1.0399 - val_accuracy: 0.6747\n",
      "Epoch 18/35\n",
      "78/78 [==============================] - 340s 4s/step - loss: 0.2248 - accuracy: 0.9292 - val_loss: 1.0568 - val_accuracy: 0.6867\n",
      "Epoch 19/35\n",
      "78/78 [==============================] - 564s 7s/step - loss: 0.2164 - accuracy: 0.9304 - val_loss: 0.9386 - val_accuracy: 0.7229\n",
      "Epoch 20/35\n",
      "78/78 [==============================] - 560s 7s/step - loss: 0.2145 - accuracy: 0.9329 - val_loss: 0.9509 - val_accuracy: 0.6988\n",
      "Epoch 21/35\n",
      "78/78 [==============================] - 555s 7s/step - loss: 0.1941 - accuracy: 0.9430 - val_loss: 0.9098 - val_accuracy: 0.6867\n",
      "Epoch 22/35\n",
      "78/78 [==============================] - 395s 5s/step - loss: 0.1886 - accuracy: 0.9365 - val_loss: 0.9775 - val_accuracy: 0.7108\n",
      "Epoch 23/35\n",
      "78/78 [==============================] - 333s 4s/step - loss: 0.2129 - accuracy: 0.9304 - val_loss: 1.1351 - val_accuracy: 0.6988\n",
      "Epoch 24/35\n",
      "78/78 [==============================] - 357s 5s/step - loss: 0.1681 - accuracy: 0.9499 - val_loss: 0.9461 - val_accuracy: 0.7108\n",
      "Epoch 25/35\n",
      "78/78 [==============================] - 349s 4s/step - loss: 0.1785 - accuracy: 0.9466 - val_loss: 0.9866 - val_accuracy: 0.7229\n",
      "Epoch 26/35\n",
      "78/78 [==============================] - 346s 4s/step - loss: 0.1572 - accuracy: 0.9575 - val_loss: 0.9455 - val_accuracy: 0.6867\n",
      "Epoch 27/35\n",
      "78/78 [==============================] - 343s 4s/step - loss: 0.1620 - accuracy: 0.9486 - val_loss: 0.9747 - val_accuracy: 0.6747\n",
      "Epoch 28/35\n",
      "78/78 [==============================] - 351s 5s/step - loss: 0.1689 - accuracy: 0.9470 - val_loss: 0.9729 - val_accuracy: 0.7108\n",
      "Epoch 29/35\n",
      "78/78 [==============================] - 353s 5s/step - loss: 0.1390 - accuracy: 0.9612 - val_loss: 1.0229 - val_accuracy: 0.6747\n",
      "Epoch 30/35\n",
      "78/78 [==============================] - 365s 5s/step - loss: 0.1413 - accuracy: 0.9632 - val_loss: 1.0305 - val_accuracy: 0.6747\n",
      "Epoch 31/35\n",
      "78/78 [==============================] - 357s 5s/step - loss: 0.1714 - accuracy: 0.9438 - val_loss: 1.6172 - val_accuracy: 0.6386\n",
      "Epoch 32/35\n",
      "78/78 [==============================] - 356s 5s/step - loss: 0.1774 - accuracy: 0.9426 - val_loss: 1.4946 - val_accuracy: 0.6145\n",
      "Epoch 33/35\n",
      "78/78 [==============================] - 347s 4s/step - loss: 0.1513 - accuracy: 0.9551 - val_loss: 1.0269 - val_accuracy: 0.7229\n",
      "Epoch 34/35\n",
      "78/78 [==============================] - 348s 4s/step - loss: 0.1310 - accuracy: 0.9612 - val_loss: 1.0096 - val_accuracy: 0.6988\n",
      "Epoch 35/35\n",
      "78/78 [==============================] - 347s 4s/step - loss: 0.1512 - accuracy: 0.9527 - val_loss: 1.1756 - val_accuracy: 0.6988\n"
     ]
    }
   ],
   "source": [
    "cobrashot_model = model.fit(\n",
    "  training_set,\n",
    "  validation_data=testing_set,\n",
    "  epochs=35,\n",
    "  batch_size=20\n",
    "  \n",
    ")"
   ]
  },
  {
   "cell_type": "code",
   "execution_count": 17,
   "id": "28de5d62",
   "metadata": {
    "scrolled": true
   },
   "outputs": [
    {
     "name": "stdout",
     "output_type": "stream",
     "text": [
      "dict_keys(['loss', 'accuracy', 'val_loss', 'val_accuracy'])\n"
     ]
    }
   ],
   "source": [
    "#list all data in training\n",
    "print(cobrashot_model.history.keys())"
   ]
  },
  {
   "cell_type": "code",
   "execution_count": 18,
   "id": "36796d12",
   "metadata": {},
   "outputs": [
    {
     "data": {
      "image/png": "[encoded data removed]",
      "text/plain": [
       "<Figure size 432x288 with 1 Axes>"
      ]
     },
     "metadata": {
      "needs_background": "light"
     },
     "output_type": "display_data"
    }
   ],
   "source": [
    "# summarize training for accuracy\n",
    "plt.plot(cobrashot_model.history['accuracy'])\n",
    "plt.plot(cobrashot_model.history['val_accuracy'])\n",
    "plt.title('Accuracy graph')\n",
    "plt.xlabel('epoch')\n",
    "plt.ylabel('accuracy')\n",
    "plt.legend(['train','test'], loc='upper left')\n",
    "plt.show()"
   ]
  },
  {
   "cell_type": "code",
   "execution_count": 19,
   "id": "a2755132",
   "metadata": {
    "scrolled": true
   },
   "outputs": [
    {
     "data": {
      "image/png": "[encoded data removed]",
      "text/plain": [
       "<Figure size 432x288 with 1 Axes>"
      ]
     },
     "metadata": {
      "needs_background": "light"
     },
     "output_type": "display_data"
    }
   ],
   "source": [
    "\n",
    "# summarize training for loss\n",
    "plt.plot(cobrashot_model.history['loss'])\n",
    "plt.plot(cobrashot_model.history['val_loss'])\n",
    "plt.title('Loss graph')\n",
    "plt.xlabel('epoch')\n",
    "plt.ylabel('loss')\n",
    "plt.legend(['train','test'], loc='upper left')\n",
    "plt.show()"
   ]
  },
  {
   "cell_type": "code",
   "execution_count": 20,
   "id": "2da953fd",
   "metadata": {},
   "outputs": [],
   "source": [
    "#create the model\n",
    "from tensorflow.keras.models import load_model\n",
    "model.save('cobrashot_model.h5')"
   ]
  },
  {
   "cell_type": "code",
   "execution_count": 21,
   "id": "0a54303e",
   "metadata": {},
   "outputs": [],
   "source": [
    "#load the model and save\n",
    "from keras.models import load_model\n",
    "cobrashot_model = load_model('cobrashot_model.h5')"
   ]
  }
 ],
 "metadata": {
  "kernelspec": {
   "display_name": "Python 3 (ipykernel)",
   "language": "python",
   "name": "python3"
  },
  "language_info": {
   "codemirror_mode": {
    "name": "ipython",
    "version": 3
   },
   "file_extension": ".py",
   "mimetype": "text/x-python",
   "name": "python",
   "nbconvert_exporter": "python",
   "pygments_lexer": "ipython3",
   "version": "3.9.7"
  }
 },
 "nbformat": 4,
 "nbformat_minor": 5
}
