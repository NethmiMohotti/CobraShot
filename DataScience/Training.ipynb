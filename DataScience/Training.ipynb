{
 "cells": [
  {
   "cell_type": "code",
   "execution_count": 1,
   "id": "4d8c305b",
   "metadata": {},
   "outputs": [],
   "source": [
    "import os\n",
    "import numpy as np\n",
    "import matplotlib.pyplot as plt\n",
    "import PIL\n",
    "import cv2\n",
    "\n",
    "from tensorflow import keras\n",
    "from tensorflow.keras.models import Sequential\n",
    "from keras.applications.vgg16 import VGG16\n",
    "from keras.applications.vgg16 import preprocess_input\n",
    "from keras.preprocessing import image\n",
    "from keras.optimizers import *\n",
    "from tensorflow.keras import *\n",
    "from tensorflow.keras.layers import Dense, Conv2D, Flatten, Dropout, MaxPooling2D,BatchNormalization,Input, Lambda\n",
    "from tensorflow.keras.preprocessing.image import ImageDataGenerator"
   ]
  },
  {
   "cell_type": "code",
   "execution_count": 2,
   "id": "e050439e",
   "metadata": {},
   "outputs": [],
   "source": [
    "IMAGE_SIZE = [224, 224]"
   ]
  },
  {
   "cell_type": "code",
   "execution_count": 3,
   "id": "f958cc61",
   "metadata": {
    "scrolled": true
   },
   "outputs": [],
   "source": [
    "train_path = \"C:\\\\Users\\\\Nethmi Mohotti\\\\Desktop\\\\CobraShot\\\\Data Science\\\\dataset\\\\train\"\n",
    "test_path = \"C:\\\\Users\\\\Nethmi Mohotti\\\\Desktop\\\\CobraShot\\\\Data Science\\\\dataset\\\\testing\""
   ]
  },
  {
   "cell_type": "code",
   "execution_count": 4,
   "id": "b8d99297",
   "metadata": {},
   "outputs": [],
   "source": [
    "vgg = VGG16(input_shape=IMAGE_SIZE + [3], weights='imagenet', include_top=False)"
   ]
  },
  {
   "cell_type": "code",
   "execution_count": 5,
   "id": "98ec4915",
   "metadata": {},
   "outputs": [],
   "source": [
    "for layer in vgg.layers:\n",
    "  layer.trainable = False"
   ]
  },
  {
   "cell_type": "code",
   "execution_count": 6,
   "id": "02b37e1a",
   "metadata": {
    "scrolled": true
   },
   "outputs": [
    {
     "name": "stdout",
     "output_type": "stream",
     "text": [
      "7\n"
     ]
    }
   ],
   "source": [
    "from glob import glob\n",
    "folders = glob(\"C:\\\\Users\\\\Nethmi Mohotti\\\\Desktop\\\\CobraShot\\\\Data Science\\\\dataset\\\\train\\\\*\")\n",
    "print(len(folders))"
   ]
  },
  {
   "cell_type": "code",
   "execution_count": 7,
   "id": "2ad88592",
   "metadata": {},
   "outputs": [],
   "source": [
    "x = Flatten()(vgg.output)"
   ]
  },
  {
   "cell_type": "code",
   "execution_count": 8,
   "id": "93008c74",
   "metadata": {},
   "outputs": [],
   "source": [
    "prediction = Dense(len(folders), activation='softmax')(x)"
   ]
  },
  {
   "cell_type": "code",
   "execution_count": 9,
   "id": "1556d436",
   "metadata": {},
   "outputs": [],
   "source": [
    "model = Model(inputs=vgg.input, outputs=prediction)"
   ]
  },
  {
   "cell_type": "code",
   "execution_count": 10,
   "id": "02249b90",
   "metadata": {},
   "outputs": [
    {
     "name": "stdout",
     "output_type": "stream",
     "text": [
      "Model: \"model\"\n",
      "_________________________________________________________________\n",
      " Layer (type)                Output Shape              Param #   \n",
      "=================================================================\n",
      " input_1 (InputLayer)        [(None, 224, 224, 3)]     0         \n",
      "                                                                 \n",
      " block1_conv1 (Conv2D)       (None, 224, 224, 64)      1792      \n",
      "                                                                 \n",
      " block1_conv2 (Conv2D)       (None, 224, 224, 64)      36928     \n",
      "                                                                 \n",
      " block1_pool (MaxPooling2D)  (None, 112, 112, 64)      0         \n",
      "                                                                 \n",
      " block2_conv1 (Conv2D)       (None, 112, 112, 128)     73856     \n",
      "                                                                 \n",
      " block2_conv2 (Conv2D)       (None, 112, 112, 128)     147584    \n",
      "                                                                 \n",
      " block2_pool (MaxPooling2D)  (None, 56, 56, 128)       0         \n",
      "                                                                 \n",
      " block3_conv1 (Conv2D)       (None, 56, 56, 256)       295168    \n",
      "                                                                 \n",
      " block3_conv2 (Conv2D)       (None, 56, 56, 256)       590080    \n",
      "                                                                 \n",
      " block3_conv3 (Conv2D)       (None, 56, 56, 256)       590080    \n",
      "                                                                 \n",
      " block3_pool (MaxPooling2D)  (None, 28, 28, 256)       0         \n",
      "                                                                 \n",
      " block4_conv1 (Conv2D)       (None, 28, 28, 512)       1180160   \n",
      "                                                                 \n",
      " block4_conv2 (Conv2D)       (None, 28, 28, 512)       2359808   \n",
      "                                                                 \n",
      " block4_conv3 (Conv2D)       (None, 28, 28, 512)       2359808   \n",
      "                                                                 \n",
      " block4_pool (MaxPooling2D)  (None, 14, 14, 512)       0         \n",
      "                                                                 \n",
      " block5_conv1 (Conv2D)       (None, 14, 14, 512)       2359808   \n",
      "                                                                 \n",
      " block5_conv2 (Conv2D)       (None, 14, 14, 512)       2359808   \n",
      "                                                                 \n",
      " block5_conv3 (Conv2D)       (None, 14, 14, 512)       2359808   \n",
      "                                                                 \n",
      " block5_pool (MaxPooling2D)  (None, 7, 7, 512)         0         \n",
      "                                                                 \n",
      " flatten (Flatten)           (None, 25088)             0         \n",
      "                                                                 \n",
      " dense (Dense)               (None, 7)                 175623    \n",
      "                                                                 \n",
      "=================================================================\n",
      "Total params: 14,890,311\n",
      "Trainable params: 175,623\n",
      "Non-trainable params: 14,714,688\n",
      "_________________________________________________________________\n"
     ]
    }
   ],
   "source": [
    "model.summary()"
   ]
  },
  {
   "cell_type": "code",
   "execution_count": 11,
   "id": "f5a6d750",
   "metadata": {},
   "outputs": [],
   "source": [
    "model.compile(\n",
    "  loss='categorical_crossentropy',\n",
    "  optimizer='adam',\n",
    "  metrics=['accuracy']\n",
    ")"
   ]
  },
  {
   "cell_type": "code",
   "execution_count": 12,
   "id": "ead1fad3",
   "metadata": {},
   "outputs": [],
   "source": [
    "train_dataset = ImageDataGenerator(rescale = 1./255,\n",
    "                                   shear_range = 0.2,\n",
    "                                   zoom_range = 0.2,\n",
    "                                   horizontal_flip = True)\n",
    "\n",
    "test_dataset = ImageDataGenerator(rescale = 1./255)"
   ]
  },
  {
   "cell_type": "code",
   "execution_count": 13,
   "id": "827ccc30",
   "metadata": {},
   "outputs": [
    {
     "name": "stdout",
     "output_type": "stream",
     "text": [
      "Found 2473 images belonging to 7 classes.\n",
      "Found 83 images belonging to 7 classes.\n"
     ]
    }
   ],
   "source": [
    "training_set = train_dataset.flow_from_directory(train_path,\n",
    "                                                 target_size = (224, 224),\n",
    "                                                 batch_size = 32,\n",
    "                                                 class_mode = 'categorical')\n",
    "\n",
    "testing_set = test_dataset.flow_from_directory(test_path, \n",
    "                                                 target_size = (224, 224),\n",
    "                                                 batch_size = 32,\n",
    "                                                 class_mode = 'categorical')"
   ]
  },
  {
   "cell_type": "code",
   "execution_count": 14,
   "id": "5d090a09",
   "metadata": {
    "scrolled": false
   },
   "outputs": [
    {
     "data": {
      "text/plain": [
       "{'Black rat snake': 0,\n",
       " 'Common garter snake': 1,\n",
       " 'Common watersnake': 2,\n",
       " \"Russell's Viper\": 3,\n",
       " 'Saw-scaled Viper': 4,\n",
       " 'Spectacled Cobra': 5,\n",
       " 'Western diamondback rattlesnake': 6}"
      ]
     },
     "execution_count": 14,
     "metadata": {},
     "output_type": "execute_result"
    }
   ],
   "source": [
    "training_set.class_indices"
   ]
  },
  {
   "cell_type": "code",
   "execution_count": 15,
   "id": "2c90c242",
   "metadata": {
    "scrolled": true
   },
   "outputs": [
    {
     "data": {
      "text/plain": [
       "array([0, 0, 0, ..., 6, 6, 6])"
      ]
     },
     "execution_count": 15,
     "metadata": {},
     "output_type": "execute_result"
    }
   ],
   "source": [
    "training_set.classes"
   ]
  },
  {
   "cell_type": "code",
   "execution_count": 16,
   "id": "bbbfb310",
   "metadata": {},
   "outputs": [
    {
     "name": "stderr",
     "output_type": "stream",
     "text": [
      "C:\\Users\\NETHMI~1\\AppData\\Local\\Temp/ipykernel_19696/2614426977.py:1: UserWarning: `Model.fit_generator` is deprecated and will be removed in a future version. Please use `Model.fit`, which supports generators.\n",
      "  r = model.fit_generator(\n"
     ]
    },
    {
     "name": "stdout",
     "output_type": "stream",
     "text": [
      "Epoch 1/30\n",
      "78/78 [==============================] - 354s 5s/step - loss: 1.5949 - accuracy: 0.4683 - val_loss: 0.9174 - val_accuracy: 0.6627\n",
      "Epoch 2/30\n",
      "78/78 [==============================] - 352s 5s/step - loss: 0.9214 - accuracy: 0.6696 - val_loss: 0.9642 - val_accuracy: 0.6145\n",
      "Epoch 3/30\n",
      "78/78 [==============================] - 351s 4s/step - loss: 0.8346 - accuracy: 0.7020 - val_loss: 1.1427 - val_accuracy: 0.6024\n",
      "Epoch 4/30\n",
      "78/78 [==============================] - 352s 5s/step - loss: 0.7396 - accuracy: 0.7339 - val_loss: 1.0572 - val_accuracy: 0.6386\n",
      "Epoch 5/30\n",
      "78/78 [==============================] - 357s 5s/step - loss: 0.6318 - accuracy: 0.7715 - val_loss: 0.7642 - val_accuracy: 0.6747\n",
      "Epoch 6/30\n",
      "78/78 [==============================] - 348s 4s/step - loss: 0.5338 - accuracy: 0.8156 - val_loss: 0.8407 - val_accuracy: 0.6747\n",
      "Epoch 7/30\n",
      "78/78 [==============================] - 347s 4s/step - loss: 0.5191 - accuracy: 0.8221 - val_loss: 1.0125 - val_accuracy: 0.6386\n",
      "Epoch 8/30\n",
      "78/78 [==============================] - 348s 4s/step - loss: 0.4291 - accuracy: 0.8577 - val_loss: 0.8680 - val_accuracy: 0.6988\n",
      "Epoch 9/30\n",
      "78/78 [==============================] - 347s 4s/step - loss: 0.3982 - accuracy: 0.8629 - val_loss: 0.8693 - val_accuracy: 0.6747\n",
      "Epoch 10/30\n",
      "78/78 [==============================] - 345s 4s/step - loss: 0.3792 - accuracy: 0.8722 - val_loss: 0.8821 - val_accuracy: 0.6867\n",
      "Epoch 11/30\n",
      "78/78 [==============================] - 357s 5s/step - loss: 0.3424 - accuracy: 0.8880 - val_loss: 0.9815 - val_accuracy: 0.6747\n",
      "Epoch 12/30\n",
      "78/78 [==============================] - 369s 5s/step - loss: 0.3454 - accuracy: 0.8892 - val_loss: 0.9631 - val_accuracy: 0.6747\n",
      "Epoch 13/30\n",
      "78/78 [==============================] - 347s 4s/step - loss: 0.3083 - accuracy: 0.8941 - val_loss: 0.9164 - val_accuracy: 0.6506\n",
      "Epoch 14/30\n",
      "78/78 [==============================] - 362s 5s/step - loss: 0.3218 - accuracy: 0.8941 - val_loss: 0.8582 - val_accuracy: 0.6988\n",
      "Epoch 15/30\n",
      "78/78 [==============================] - 369s 5s/step - loss: 0.2880 - accuracy: 0.9066 - val_loss: 0.8816 - val_accuracy: 0.7229\n",
      "Epoch 16/30\n",
      "78/78 [==============================] - 365s 5s/step - loss: 0.2604 - accuracy: 0.9139 - val_loss: 0.9833 - val_accuracy: 0.6988\n",
      "Epoch 17/30\n",
      "78/78 [==============================] - 365s 5s/step - loss: 0.2448 - accuracy: 0.9292 - val_loss: 0.9231 - val_accuracy: 0.6988\n",
      "Epoch 18/30\n",
      "78/78 [==============================] - 356s 5s/step - loss: 0.2590 - accuracy: 0.9191 - val_loss: 1.0628 - val_accuracy: 0.6747\n",
      "Epoch 19/30\n",
      "78/78 [==============================] - 349s 4s/step - loss: 0.2540 - accuracy: 0.9207 - val_loss: 0.9419 - val_accuracy: 0.7229\n",
      "Epoch 20/30\n",
      "78/78 [==============================] - 349s 4s/step - loss: 0.2298 - accuracy: 0.9240 - val_loss: 0.9730 - val_accuracy: 0.6747\n",
      "Epoch 21/30\n",
      "78/78 [==============================] - 369s 5s/step - loss: 0.1925 - accuracy: 0.9430 - val_loss: 1.0255 - val_accuracy: 0.7108\n",
      "Epoch 22/30\n",
      "78/78 [==============================] - 347s 4s/step - loss: 0.2332 - accuracy: 0.9341 - val_loss: 0.9683 - val_accuracy: 0.6988\n",
      "Epoch 23/30\n",
      "78/78 [==============================] - 342s 4s/step - loss: 0.2159 - accuracy: 0.9333 - val_loss: 1.1888 - val_accuracy: 0.7108\n",
      "Epoch 24/30\n",
      "78/78 [==============================] - 344s 4s/step - loss: 0.1765 - accuracy: 0.9495 - val_loss: 1.0535 - val_accuracy: 0.6988\n",
      "Epoch 25/30\n",
      "78/78 [==============================] - 343s 4s/step - loss: 0.1655 - accuracy: 0.9507 - val_loss: 0.9946 - val_accuracy: 0.6506\n",
      "Epoch 26/30\n",
      "78/78 [==============================] - 342s 4s/step - loss: 0.1831 - accuracy: 0.9450 - val_loss: 0.9640 - val_accuracy: 0.7229\n",
      "Epoch 27/30\n",
      "78/78 [==============================] - 347s 4s/step - loss: 0.2134 - accuracy: 0.9313 - val_loss: 1.0515 - val_accuracy: 0.6747\n",
      "Epoch 28/30\n",
      "78/78 [==============================] - 342s 4s/step - loss: 0.1610 - accuracy: 0.9490 - val_loss: 0.9775 - val_accuracy: 0.6988\n",
      "Epoch 29/30\n",
      "78/78 [==============================] - 337s 4s/step - loss: 0.1839 - accuracy: 0.9389 - val_loss: 1.3041 - val_accuracy: 0.6747\n",
      "Epoch 30/30\n",
      "78/78 [==============================] - 337s 4s/step - loss: 0.1705 - accuracy: 0.9519 - val_loss: 1.1615 - val_accuracy: 0.6988\n"
     ]
    }
   ],
   "source": [
    "r = model.fit_generator(\n",
    "  training_set,\n",
    "  validation_data=testing_set,\n",
    "  epochs=30,\n",
    "  steps_per_epoch=len(training_set),\n",
    "  validation_steps=len(testing_set)\n",
    ")"
   ]
  },
  {
   "cell_type": "code",
   "execution_count": 17,
   "id": "28de5d62",
   "metadata": {},
   "outputs": [],
   "source": [
    "from tensorflow.keras.models import load_model\n",
    "model.save('cobrashot_model.h5')"
   ]
  },
  {
   "cell_type": "code",
   "execution_count": 18,
   "id": "36796d12",
   "metadata": {},
   "outputs": [],
   "source": [
    "from keras.models import load_model\n",
    "cobrashot_model = load_model('cobrashot_model.h5')"
   ]
  },
  {
   "cell_type": "code",
   "execution_count": 19,
   "id": "a2755132",
   "metadata": {},
   "outputs": [
    {
     "ename": "AttributeError",
     "evalue": "'NoneType' object has no attribute 'keys'",
     "output_type": "error",
     "traceback": [
      "\u001b[1;31m---------------------------------------------------------------------------\u001b[0m",
      "\u001b[1;31mAttributeError\u001b[0m                            Traceback (most recent call last)",
      "\u001b[1;32mC:\\Users\\NETHMI~1\\AppData\\Local\\Temp/ipykernel_19696/1699871288.py\u001b[0m in \u001b[0;36m<module>\u001b[1;34m\u001b[0m\n\u001b[0;32m      2\u001b[0m \u001b[0mget_ipython\u001b[0m\u001b[1;33m(\u001b[0m\u001b[1;33m)\u001b[0m\u001b[1;33m.\u001b[0m\u001b[0mrun_line_magic\u001b[0m\u001b[1;33m(\u001b[0m\u001b[1;34m'matplotlib'\u001b[0m\u001b[1;33m,\u001b[0m \u001b[1;34m'inline'\u001b[0m\u001b[1;33m)\u001b[0m\u001b[1;33m\u001b[0m\u001b[1;33m\u001b[0m\u001b[0m\n\u001b[0;32m      3\u001b[0m \u001b[1;31m#list all data in training\u001b[0m\u001b[1;33m\u001b[0m\u001b[1;33m\u001b[0m\u001b[0m\n\u001b[1;32m----> 4\u001b[1;33m \u001b[0mprint\u001b[0m\u001b[1;33m(\u001b[0m\u001b[0mcobrashot_model\u001b[0m\u001b[1;33m.\u001b[0m\u001b[0mhistory\u001b[0m\u001b[1;33m.\u001b[0m\u001b[0mkeys\u001b[0m\u001b[1;33m(\u001b[0m\u001b[1;33m)\u001b[0m\u001b[1;33m)\u001b[0m\u001b[1;33m\u001b[0m\u001b[1;33m\u001b[0m\u001b[0m\n\u001b[0m\u001b[0;32m      5\u001b[0m \u001b[1;31m# summarize training for accuracy\u001b[0m\u001b[1;33m\u001b[0m\u001b[1;33m\u001b[0m\u001b[0m\n\u001b[0;32m      6\u001b[0m \u001b[0mplt\u001b[0m\u001b[1;33m.\u001b[0m\u001b[0mplot\u001b[0m\u001b[1;33m(\u001b[0m\u001b[0mcobrashot_model\u001b[0m\u001b[1;33m.\u001b[0m\u001b[0mhistory\u001b[0m\u001b[1;33m[\u001b[0m\u001b[1;34m'accuracy'\u001b[0m\u001b[1;33m]\u001b[0m\u001b[1;33m)\u001b[0m\u001b[1;33m\u001b[0m\u001b[1;33m\u001b[0m\u001b[0m\n",
      "\u001b[1;31mAttributeError\u001b[0m: 'NoneType' object has no attribute 'keys'"
     ]
    }
   ],
   "source": [
    "import matplotlib.pyplot as plt\n",
    "%matplotlib inline\n",
    "#list all data in training\n",
    "print(cobrashot_model.history.keys())\n",
    "# summarize training for accuracy\n",
    "plt.plot(cobrashot_model.history['accuracy'])\n",
    "plt.plot(cobrashot_model.history['val_accuracy'])\n",
    "plt.title('Accuracy graph')\n",
    "plt.xlabel('epoch')\n",
    "plt.ylabel('accuracy')\n",
    "plt.legend(['train','test'], loc='upper left')\n",
    "plt.show()\n",
    "\n",
    "# summarize training for loss\n",
    "plt.plot(cobrashot_model.history['loss'])\n",
    "plt.plot(cobrashot_model.history['val_loss'])\n",
    "plt.title('Loss graph')\n",
    "plt.xlabel('epoch')\n",
    "plt.ylabel('loss')\n",
    "plt.legend(['train','test'], loc='upper left')\n",
    "plt.show()"
   ]
  }
 ],
 "metadata": {
  "kernelspec": {
   "display_name": "Python 3 (ipykernel)",
   "language": "python",
   "name": "python3"
  },
  "language_info": {
   "codemirror_mode": {
    "name": "ipython",
    "version": 3
   },
   "file_extension": ".py",
   "mimetype": "text/x-python",
   "name": "python",
   "nbconvert_exporter": "python",
   "pygments_lexer": "ipython3",
   "version": "3.9.7"
  }
 },
 "nbformat": 4,
 "nbformat_minor": 5
}
