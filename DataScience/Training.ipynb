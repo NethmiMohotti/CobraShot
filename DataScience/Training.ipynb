{
 "cells": [
  {
   "cell_type": "code",
   "execution_count": 1,
   "id": "4d8c305b",
   "metadata": {},
   "outputs": [],
   "source": [
    "import os\n",
    "import numpy as np\n",
    "import matplotlib.pyplot as plt\n",
    "import PIL\n",
    "import cv2\n",
    "\n",
    "from tensorflow import keras\n",
    "from tensorflow.keras.models import Sequential\n",
    "from keras.applications.vgg16 import VGG16\n",
    "from keras.applications.vgg16 import preprocess_input\n",
    "from keras.preprocessing import image\n",
    "from keras.optimizers import *\n",
    "from tensorflow.keras import *\n",
    "from tensorflow.keras.layers import Dense, Conv2D, Flatten, Dropout, MaxPooling2D,BatchNormalization,Input, Lambda\n",
    "from tensorflow.keras.preprocessing.image import ImageDataGenerator"
   ]
  },
  {
   "cell_type": "code",
   "execution_count": 2,
   "id": "e050439e",
   "metadata": {},
   "outputs": [],
   "source": [
    "IMAGE_SIZE = [224, 224]"
   ]
  },
  {
   "cell_type": "code",
   "execution_count": 3,
   "id": "f958cc61",
   "metadata": {
    "scrolled": true
   },
   "outputs": [],
   "source": [
    "train_path = \"C:\\\\Users\\\\Nethmi Mohotti\\\\Desktop\\\\CobraShot\\\\Data Science\\\\dataset\\\\train\"\n",
    "test_path = \"C:\\\\Users\\\\Nethmi Mohotti\\\\Desktop\\\\CobraShot\\\\Data Science\\\\dataset\\\\testing\""
   ]
  },
  {
   "cell_type": "code",
   "execution_count": 4,
   "id": "b8d99297",
   "metadata": {},
   "outputs": [],
   "source": [
    "vgg = VGG16(input_shape=IMAGE_SIZE + [3], weights='imagenet', include_top=False)"
   ]
  },
  {
   "cell_type": "code",
   "execution_count": 5,
   "id": "98ec4915",
   "metadata": {},
   "outputs": [],
   "source": [
    "for layer in vgg.layers:\n",
    "  layer.trainable = False"
   ]
  },
  {
   "cell_type": "code",
   "execution_count": 6,
   "id": "02b37e1a",
   "metadata": {
    "scrolled": true
   },
   "outputs": [
    {
     "name": "stdout",
     "output_type": "stream",
     "text": [
      "7\n"
     ]
    }
   ],
   "source": [
    "from glob import glob\n",
    "folders = glob(\"C:\\\\Users\\\\Nethmi Mohotti\\\\Desktop\\\\CobraShot\\\\Data Science\\\\dataset\\\\train\\\\*\")\n",
    "print(len(folders))"
   ]
  },
  {
   "cell_type": "code",
   "execution_count": 7,
   "id": "2ad88592",
   "metadata": {},
   "outputs": [],
   "source": [
    "x = Flatten()(vgg.output)"
   ]
  },
  {
   "cell_type": "code",
   "execution_count": 8,
   "id": "93008c74",
   "metadata": {},
   "outputs": [],
   "source": [
    "prediction = Dense(len(folders), activation='softmax')(x)"
   ]
  },
  {
   "cell_type": "code",
   "execution_count": 9,
   "id": "1556d436",
   "metadata": {},
   "outputs": [],
   "source": [
    "model = Model(inputs=vgg.input, outputs=prediction)"
   ]
  },
  {
   "cell_type": "code",
   "execution_count": 10,
   "id": "02249b90",
   "metadata": {},
   "outputs": [
    {
     "name": "stdout",
     "output_type": "stream",
     "text": [
      "Model: \"model\"\n",
      "_________________________________________________________________\n",
      " Layer (type)                Output Shape              Param #   \n",
      "=================================================================\n",
      " input_1 (InputLayer)        [(None, 224, 224, 3)]     0         \n",
      "                                                                 \n",
      " block1_conv1 (Conv2D)       (None, 224, 224, 64)      1792      \n",
      "                                                                 \n",
      " block1_conv2 (Conv2D)       (None, 224, 224, 64)      36928     \n",
      "                                                                 \n",
      " block1_pool (MaxPooling2D)  (None, 112, 112, 64)      0         \n",
      "                                                                 \n",
      " block2_conv1 (Conv2D)       (None, 112, 112, 128)     73856     \n",
      "                                                                 \n",
      " block2_conv2 (Conv2D)       (None, 112, 112, 128)     147584    \n",
      "                                                                 \n",
      " block2_pool (MaxPooling2D)  (None, 56, 56, 128)       0         \n",
      "                                                                 \n",
      " block3_conv1 (Conv2D)       (None, 56, 56, 256)       295168    \n",
      "                                                                 \n",
      " block3_conv2 (Conv2D)       (None, 56, 56, 256)       590080    \n",
      "                                                                 \n",
      " block3_conv3 (Conv2D)       (None, 56, 56, 256)       590080    \n",
      "                                                                 \n",
      " block3_pool (MaxPooling2D)  (None, 28, 28, 256)       0         \n",
      "                                                                 \n",
      " block4_conv1 (Conv2D)       (None, 28, 28, 512)       1180160   \n",
      "                                                                 \n",
      " block4_conv2 (Conv2D)       (None, 28, 28, 512)       2359808   \n",
      "                                                                 \n",
      " block4_conv3 (Conv2D)       (None, 28, 28, 512)       2359808   \n",
      "                                                                 \n",
      " block4_pool (MaxPooling2D)  (None, 14, 14, 512)       0         \n",
      "                                                                 \n",
      " block5_conv1 (Conv2D)       (None, 14, 14, 512)       2359808   \n",
      "                                                                 \n",
      " block5_conv2 (Conv2D)       (None, 14, 14, 512)       2359808   \n",
      "                                                                 \n",
      " block5_conv3 (Conv2D)       (None, 14, 14, 512)       2359808   \n",
      "                                                                 \n",
      " block5_pool (MaxPooling2D)  (None, 7, 7, 512)         0         \n",
      "                                                                 \n",
      " flatten (Flatten)           (None, 25088)             0         \n",
      "                                                                 \n",
      " dense (Dense)               (None, 7)                 175623    \n",
      "                                                                 \n",
      "=================================================================\n",
      "Total params: 14,890,311\n",
      "Trainable params: 175,623\n",
      "Non-trainable params: 14,714,688\n",
      "_________________________________________________________________\n"
     ]
    }
   ],
   "source": [
    "model.summary()"
   ]
  },
  {
   "cell_type": "code",
   "execution_count": 11,
   "id": "f5a6d750",
   "metadata": {},
   "outputs": [],
   "source": [
    "model.compile(\n",
    "  loss='categorical_crossentropy',\n",
    "  optimizer='adam',\n",
    "  metrics=['accuracy']\n",
    ")"
   ]
  },
  {
   "cell_type": "code",
   "execution_count": 12,
   "id": "ead1fad3",
   "metadata": {},
   "outputs": [],
   "source": [
    "train_dataset = ImageDataGenerator(rescale = 1./255,\n",
    "                                   shear_range = 0.2,\n",
    "                                   zoom_range = 0.2,\n",
    "                                   horizontal_flip = True)\n",
    "\n",
    "test_dataset = ImageDataGenerator(rescale = 1./255)"
   ]
  },
  {
   "cell_type": "code",
   "execution_count": 13,
   "id": "827ccc30",
   "metadata": {},
   "outputs": [
    {
     "name": "stdout",
     "output_type": "stream",
     "text": [
      "Found 2473 images belonging to 7 classes.\n",
      "Found 83 images belonging to 7 classes.\n"
     ]
    }
   ],
   "source": [
    "training_set = train_dataset.flow_from_directory(train_path,\n",
    "                                                 target_size = (224, 224),\n",
    "                                                 batch_size = 32,\n",
    "                                                 class_mode = 'categorical')\n",
    "\n",
    "testing_set = test_dataset.flow_from_directory(test_path, \n",
    "                                                 target_size = (224, 224),\n",
    "                                                 batch_size = 32,\n",
    "                                                 class_mode = 'categorical')"
   ]
  },
  {
   "cell_type": "code",
   "execution_count": 14,
   "id": "5d090a09",
   "metadata": {
    "scrolled": false
   },
   "outputs": [
    {
     "data": {
      "text/plain": [
       "{'Black rat snake': 0,\n",
       " 'Common garter snake': 1,\n",
       " 'Common watersnake': 2,\n",
       " \"Russell's Viper\": 3,\n",
       " 'Saw-scaled Viper': 4,\n",
       " 'Spectacled Cobra': 5,\n",
       " 'Western diamondback rattlesnake': 6}"
      ]
     },
     "execution_count": 14,
     "metadata": {},
     "output_type": "execute_result"
    }
   ],
   "source": [
    "training_set.class_indices"
   ]
  },
  {
   "cell_type": "code",
   "execution_count": 15,
   "id": "2c90c242",
   "metadata": {
    "scrolled": true
   },
   "outputs": [
    {
     "data": {
      "text/plain": [
       "array([0, 0, 0, ..., 6, 6, 6])"
      ]
     },
     "execution_count": 15,
     "metadata": {},
     "output_type": "execute_result"
    }
   ],
   "source": [
    "training_set.classes"
   ]
  },
  {
   "cell_type": "code",
   "execution_count": 16,
   "id": "bbbfb310",
   "metadata": {},
   "outputs": [
    {
     "name": "stderr",
     "output_type": "stream",
     "text": [
      "C:\\Users\\NETHMI~1\\AppData\\Local\\Temp/ipykernel_3208/480084177.py:1: UserWarning: `Model.fit_generator` is deprecated and will be removed in a future version. Please use `Model.fit`, which supports generators.\n",
      "  r = model.fit_generator(\n"
     ]
    },
    {
     "name": "stdout",
     "output_type": "stream",
     "text": [
      "Epoch 1/35\n",
      "78/78 [==============================] - 649s 8s/step - loss: 1.5461 - accuracy: 0.4755 - val_loss: 1.2124 - val_accuracy: 0.6386\n",
      "Epoch 2/35\n",
      "78/78 [==============================] - 618s 8s/step - loss: 0.9934 - accuracy: 0.6429 - val_loss: 1.0119 - val_accuracy: 0.6265\n",
      "Epoch 3/35\n",
      "78/78 [==============================] - 617s 8s/step - loss: 0.8167 - accuracy: 0.7169 - val_loss: 0.9095 - val_accuracy: 0.6265\n",
      "Epoch 4/35\n",
      "78/78 [==============================] - 619s 8s/step - loss: 0.7124 - accuracy: 0.7404 - val_loss: 0.9414 - val_accuracy: 0.6386\n",
      "Epoch 5/35\n",
      "78/78 [==============================] - 618s 8s/step - loss: 0.6211 - accuracy: 0.7744 - val_loss: 1.0046 - val_accuracy: 0.6386\n",
      "Epoch 6/35\n",
      "78/78 [==============================] - 613s 8s/step - loss: 0.5029 - accuracy: 0.8277 - val_loss: 0.9372 - val_accuracy: 0.6747\n",
      "Epoch 7/35\n",
      "78/78 [==============================] - 1050s 14s/step - loss: 0.4629 - accuracy: 0.8427 - val_loss: 1.0913 - val_accuracy: 0.6265\n",
      "Epoch 8/35\n",
      "78/78 [==============================] - 650s 8s/step - loss: 0.4803 - accuracy: 0.8306 - val_loss: 1.1961 - val_accuracy: 0.6386\n",
      "Epoch 9/35\n",
      "78/78 [==============================] - 682s 9s/step - loss: 0.3911 - accuracy: 0.8714 - val_loss: 1.0664 - val_accuracy: 0.6386\n",
      "Epoch 10/35\n",
      "78/78 [==============================] - 712s 9s/step - loss: 0.3760 - accuracy: 0.8742 - val_loss: 1.1661 - val_accuracy: 0.6386\n",
      "Epoch 11/35\n",
      "78/78 [==============================] - 756s 10s/step - loss: 0.3843 - accuracy: 0.8702 - val_loss: 1.0885 - val_accuracy: 0.6145\n",
      "Epoch 12/35\n",
      "78/78 [==============================] - 884s 11s/step - loss: 0.3320 - accuracy: 0.8961 - val_loss: 1.0875 - val_accuracy: 0.6506\n",
      "Epoch 13/35\n",
      "78/78 [==============================] - 767s 10s/step - loss: 0.3102 - accuracy: 0.9030 - val_loss: 0.9906 - val_accuracy: 0.6867\n",
      "Epoch 14/35\n",
      "78/78 [==============================] - 763s 10s/step - loss: 0.3143 - accuracy: 0.8912 - val_loss: 1.2122 - val_accuracy: 0.6506\n",
      "Epoch 15/35\n",
      "78/78 [==============================] - 715s 9s/step - loss: 0.2724 - accuracy: 0.9147 - val_loss: 1.1397 - val_accuracy: 0.6627\n",
      "Epoch 16/35\n",
      "78/78 [==============================] - 859s 11s/step - loss: 0.2413 - accuracy: 0.9296 - val_loss: 1.1967 - val_accuracy: 0.6627\n",
      "Epoch 17/35\n",
      "78/78 [==============================] - 970s 12s/step - loss: 0.2551 - accuracy: 0.9159 - val_loss: 1.2023 - val_accuracy: 0.6386\n",
      "Epoch 18/35\n",
      "78/78 [==============================] - 1009s 13s/step - loss: 0.2538 - accuracy: 0.9203 - val_loss: 1.2446 - val_accuracy: 0.6386\n",
      "Epoch 19/35\n",
      "78/78 [==============================] - 1204s 15s/step - loss: 0.2292 - accuracy: 0.9264 - val_loss: 1.0179 - val_accuracy: 0.6867\n",
      "Epoch 20/35\n",
      "78/78 [==============================] - 1353s 17s/step - loss: 0.2392 - accuracy: 0.9232 - val_loss: 1.1195 - val_accuracy: 0.6506\n",
      "Epoch 21/35\n",
      "78/78 [==============================] - 750s 10s/step - loss: 0.1849 - accuracy: 0.9462 - val_loss: 1.1415 - val_accuracy: 0.6506\n",
      "Epoch 22/35\n",
      "78/78 [==============================] - 771s 10s/step - loss: 0.2060 - accuracy: 0.9341 - val_loss: 1.3745 - val_accuracy: 0.6386\n",
      "Epoch 23/35\n",
      "78/78 [==============================] - 773s 10s/step - loss: 0.2009 - accuracy: 0.9422 - val_loss: 1.3260 - val_accuracy: 0.6386\n",
      "Epoch 24/35\n",
      "78/78 [==============================] - 759s 10s/step - loss: 0.2262 - accuracy: 0.9236 - val_loss: 1.4467 - val_accuracy: 0.6386\n",
      "Epoch 25/35\n",
      "78/78 [==============================] - 811s 10s/step - loss: 0.2196 - accuracy: 0.9284 - val_loss: 1.2422 - val_accuracy: 0.6627\n",
      "Epoch 26/35\n",
      "78/78 [==============================] - 761s 10s/step - loss: 0.1866 - accuracy: 0.9414 - val_loss: 1.5350 - val_accuracy: 0.6386\n",
      "Epoch 27/35\n",
      "78/78 [==============================] - 738s 9s/step - loss: 0.1808 - accuracy: 0.9438 - val_loss: 1.1255 - val_accuracy: 0.6386\n",
      "Epoch 28/35\n",
      "78/78 [==============================] - 710s 9s/step - loss: 0.1520 - accuracy: 0.9555 - val_loss: 1.1792 - val_accuracy: 0.6867\n",
      "Epoch 29/35\n",
      "78/78 [==============================] - 687s 9s/step - loss: 0.1486 - accuracy: 0.9551 - val_loss: 1.1464 - val_accuracy: 0.6747\n",
      "Epoch 30/35\n",
      "78/78 [==============================] - 370s 5s/step - loss: 0.1363 - accuracy: 0.9656 - val_loss: 1.1038 - val_accuracy: 0.6506\n",
      "Epoch 31/35\n",
      "78/78 [==============================] - 364s 5s/step - loss: 0.1352 - accuracy: 0.9543 - val_loss: 1.1681 - val_accuracy: 0.6867\n",
      "Epoch 32/35\n",
      "78/78 [==============================] - 354s 5s/step - loss: 0.1766 - accuracy: 0.9454 - val_loss: 1.3256 - val_accuracy: 0.6747\n",
      "Epoch 33/35\n",
      "78/78 [==============================] - 358s 5s/step - loss: 0.1936 - accuracy: 0.9418 - val_loss: 1.2737 - val_accuracy: 0.6506\n",
      "Epoch 34/35\n",
      "78/78 [==============================] - 361s 5s/step - loss: 0.1504 - accuracy: 0.9543 - val_loss: 1.5435 - val_accuracy: 0.6265\n",
      "Epoch 35/35\n",
      "78/78 [==============================] - 365s 5s/step - loss: 0.1412 - accuracy: 0.9584 - val_loss: 1.1217 - val_accuracy: 0.6988\n"
     ]
    }
   ],
   "source": [
    "r = model.fit_generator(\n",
    "  training_set,\n",
    "  validation_data=testing_set,\n",
    "  epochs=35,\n",
    "  steps_per_epoch=len(training_set),\n",
    "  validation_steps=len(testing_set)\n",
    ")"
   ]
  },
  {
   "cell_type": "code",
   "execution_count": 17,
   "id": "28de5d62",
   "metadata": {},
   "outputs": [],
   "source": [
    "from tensorflow.keras.models import load_model\n",
    "model.save('cobrashot_model.h5')"
   ]
  },
  {
   "cell_type": "code",
   "execution_count": 18,
   "id": "36796d12",
   "metadata": {},
   "outputs": [],
   "source": [
    "from keras.models import load_model\n",
    "cobrashot_model = load_model('cobrashot_model.h5')"
   ]
  },
  {
   "cell_type": "code",
   "execution_count": 19,
   "id": "a2755132",
   "metadata": {},
   "outputs": [
    {
     "ename": "AttributeError",
     "evalue": "'NoneType' object has no attribute 'keys'",
     "output_type": "error",
     "traceback": [
      "\u001b[1;31m---------------------------------------------------------------------------\u001b[0m",
      "\u001b[1;31mAttributeError\u001b[0m                            Traceback (most recent call last)",
      "\u001b[1;32mC:\\Users\\NETHMI~1\\AppData\\Local\\Temp/ipykernel_3208/1699871288.py\u001b[0m in \u001b[0;36m<module>\u001b[1;34m\u001b[0m\n\u001b[0;32m      2\u001b[0m \u001b[0mget_ipython\u001b[0m\u001b[1;33m(\u001b[0m\u001b[1;33m)\u001b[0m\u001b[1;33m.\u001b[0m\u001b[0mrun_line_magic\u001b[0m\u001b[1;33m(\u001b[0m\u001b[1;34m'matplotlib'\u001b[0m\u001b[1;33m,\u001b[0m \u001b[1;34m'inline'\u001b[0m\u001b[1;33m)\u001b[0m\u001b[1;33m\u001b[0m\u001b[1;33m\u001b[0m\u001b[0m\n\u001b[0;32m      3\u001b[0m \u001b[1;31m#list all data in training\u001b[0m\u001b[1;33m\u001b[0m\u001b[1;33m\u001b[0m\u001b[0m\n\u001b[1;32m----> 4\u001b[1;33m \u001b[0mprint\u001b[0m\u001b[1;33m(\u001b[0m\u001b[0mcobrashot_model\u001b[0m\u001b[1;33m.\u001b[0m\u001b[0mhistory\u001b[0m\u001b[1;33m.\u001b[0m\u001b[0mkeys\u001b[0m\u001b[1;33m(\u001b[0m\u001b[1;33m)\u001b[0m\u001b[1;33m)\u001b[0m\u001b[1;33m\u001b[0m\u001b[1;33m\u001b[0m\u001b[0m\n\u001b[0m\u001b[0;32m      5\u001b[0m \u001b[1;31m# summarize training for accuracy\u001b[0m\u001b[1;33m\u001b[0m\u001b[1;33m\u001b[0m\u001b[0m\n\u001b[0;32m      6\u001b[0m \u001b[0mplt\u001b[0m\u001b[1;33m.\u001b[0m\u001b[0mplot\u001b[0m\u001b[1;33m(\u001b[0m\u001b[0mcobrashot_model\u001b[0m\u001b[1;33m.\u001b[0m\u001b[0mhistory\u001b[0m\u001b[1;33m[\u001b[0m\u001b[1;34m'accuracy'\u001b[0m\u001b[1;33m]\u001b[0m\u001b[1;33m)\u001b[0m\u001b[1;33m\u001b[0m\u001b[1;33m\u001b[0m\u001b[0m\n",
      "\u001b[1;31mAttributeError\u001b[0m: 'NoneType' object has no attribute 'keys'"
     ]
    }
   ],
   "source": [
    "import matplotlib.pyplot as plt\n",
    "%matplotlib inline\n",
    "#list all data in training\n",
    "print(cobrashot_model.history.keys())\n",
    "# summarize training for accuracy\n",
    "plt.plot(cobrashot_model.history['accuracy'])\n",
    "plt.plot(cobrashot_model.history['val_accuracy'])\n",
    "plt.title('Accuracy graph')\n",
    "plt.xlabel('epoch')\n",
    "plt.ylabel('accuracy')\n",
    "plt.legend(['train','test'], loc='upper left')\n",
    "plt.show()\n",
    "\n",
    "# summarize training for loss\n",
    "plt.plot(cobrashot_model.history['loss'])\n",
    "plt.plot(cobrashot_model.history['val_loss'])\n",
    "plt.title('Loss graph')\n",
    "plt.xlabel('epoch')\n",
    "plt.ylabel('loss')\n",
    "plt.legend(['train','test'], loc='upper left')\n",
    "plt.show()"
   ]
  }
 ],
 "metadata": {
  "kernelspec": {
   "display_name": "Python 3 (ipykernel)",
   "language": "python",
   "name": "python3"
  },
  "language_info": {
   "codemirror_mode": {
    "name": "ipython",
    "version": 3
   },
   "file_extension": ".py",
   "mimetype": "text/x-python",
   "name": "python",
   "nbconvert_exporter": "python",
   "pygments_lexer": "ipython3",
   "version": "3.9.7"
  }
 },
 "nbformat": 4,
 "nbformat_minor": 5
}
