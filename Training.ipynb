{
  "cells": [
    {
      "cell_type": "markdown",
      "metadata": {
        "id": "view-in-github",
        "colab_type": "text"
      },
      "source": [
        "<a href=\"https://colab.research.google.com/github/NethmiMohotti/CobraShot/blob/DataScience/Training.ipynb\" target=\"_parent\"><img src=\"https://colab.research.google.com/assets/colab-badge.svg\" alt=\"Open In Colab\"/></a>"
      ]
    },
    {
      "cell_type": "code",
      "execution_count": 1,
      "metadata": {
        "id": "s0tfzQSfavKw"
      },
      "outputs": [],
      "source": [
        "import tensorflow as tf\n",
        "import matplotlib.pyplot as plt\n",
        "import cv2\n",
        "import os\n",
        "import numpy as np\n",
        "from tensorflow import keras\n",
        "from keras.models import Sequential\n",
        "from keras.layers import Dense, Activation\n",
        "from tensorflow.keras.models import Sequential\n",
        "from keras.applications.vgg16 import VGG16\n",
        "from keras.applications.vgg16 import preprocess_input\n",
        "from keras.preprocessing import image\n",
        "from keras.optimizers import *\n",
        "from tensorflow.keras import *\n",
        "from tensorflow.keras.layers import Dense, Conv2D, Flatten, Dropout, MaxPooling2D,BatchNormalization,Input, Lambda\n",
        "from tensorflow.keras.preprocessing.image import ImageDataGenerator\n",
        "from tensorflow.keras.preprocessing.image import ImageDataGenerator\n",
        "from tensorflow.keras.preprocessing import image"
      ]
    },
    {
      "cell_type": "code",
      "execution_count": 2,
      "metadata": {
        "id": "lBh9rv7tU18Y"
      },
      "outputs": [],
      "source": [
        "from google.colab import drive"
      ]
    },
    {
      "cell_type": "code",
      "execution_count": 3,
      "metadata": {
        "colab": {
          "base_uri": "https://localhost:8080/"
        },
        "id": "NkAVeg8f5Msd",
        "outputId": "9b0e3fc3-5cc6-49bf-d1fb-808d662df900"
      },
      "outputs": [
        {
          "output_type": "stream",
          "name": "stdout",
          "text": [
            "Drive already mounted at /content/drive; to attempt to forcibly remount, call drive.mount(\"/content/drive\", force_remount=True).\n"
          ]
        }
      ],
      "source": [
        "drive.mount('/content/drive')"
      ]
    },
    {
      "cell_type": "code",
      "execution_count": 4,
      "metadata": {
        "id": "A25ZPCb1j9vM"
      },
      "outputs": [],
      "source": [
        "IMAGE_SIZE = [224, 224]"
      ]
    },
    {
      "cell_type": "code",
      "execution_count": 5,
      "metadata": {
        "id": "Qhoen9O2nwE7"
      },
      "outputs": [],
      "source": [
        "train_path = '/content/drive/MyDrive/SDGP(Binary_Architects)23/Data Science/dataset/train'\n",
        "test_path = '/content/drive/MyDrive/SDGP(Binary_Architects)23/Data Science/dataset/testing'"
      ]
    },
    {
      "cell_type": "code",
      "execution_count": 6,
      "metadata": {
        "id": "mdzKpDYgnyri"
      },
      "outputs": [],
      "source": [
        "vgg = VGG16(input_shape=IMAGE_SIZE + [3], weights='imagenet', include_top=False)"
      ]
    },
    {
      "cell_type": "code",
      "execution_count": 7,
      "metadata": {
        "id": "yzPXr6Pwn1Bi"
      },
      "outputs": [],
      "source": [
        "for layer in vgg.layers:\n",
        "  layer.trainable = False"
      ]
    },
    {
      "cell_type": "code",
      "execution_count": 8,
      "metadata": {
        "colab": {
          "base_uri": "https://localhost:8080/"
        },
        "id": "YB06wD0yn3od",
        "outputId": "824c51aa-2007-4526-996c-5bcd11337919"
      },
      "outputs": [
        {
          "output_type": "stream",
          "name": "stdout",
          "text": [
            "7\n"
          ]
        }
      ],
      "source": [
        "from glob import glob\n",
        "folders = glob(\"/content/drive/MyDrive/SDGP(Binary_Architects)23/Data Science/dataset/train/*\")\n",
        "print(len(folders))"
      ]
    },
    {
      "cell_type": "code",
      "execution_count": 9,
      "metadata": {
        "id": "Am5yO8hpoN7_"
      },
      "outputs": [],
      "source": [
        "x = Flatten()(vgg.output)"
      ]
    },
    {
      "cell_type": "code",
      "execution_count": 10,
      "metadata": {
        "id": "wJW2VtiGoOJe"
      },
      "outputs": [],
      "source": [
        "prediction = Dense(len(folders), activation='softmax')(x)"
      ]
    },
    {
      "cell_type": "code",
      "execution_count": 11,
      "metadata": {
        "id": "c9QE7RW6oOQf"
      },
      "outputs": [],
      "source": [
        "model = Model(inputs=vgg.input, outputs=prediction)"
      ]
    },
    {
      "cell_type": "code",
      "execution_count": 12,
      "metadata": {
        "colab": {
          "base_uri": "https://localhost:8080/"
        },
        "id": "AzM450iSoOVQ",
        "outputId": "00577049-5466-4c47-bb4e-db6f9d4a0409"
      },
      "outputs": [
        {
          "output_type": "stream",
          "name": "stdout",
          "text": [
            "Model: \"model\"\n",
            "_________________________________________________________________\n",
            " Layer (type)                Output Shape              Param #   \n",
            "=================================================================\n",
            " input_1 (InputLayer)        [(None, 224, 224, 3)]     0         \n",
            "                                                                 \n",
            " block1_conv1 (Conv2D)       (None, 224, 224, 64)      1792      \n",
            "                                                                 \n",
            " block1_conv2 (Conv2D)       (None, 224, 224, 64)      36928     \n",
            "                                                                 \n",
            " block1_pool (MaxPooling2D)  (None, 112, 112, 64)      0         \n",
            "                                                                 \n",
            " block2_conv1 (Conv2D)       (None, 112, 112, 128)     73856     \n",
            "                                                                 \n",
            " block2_conv2 (Conv2D)       (None, 112, 112, 128)     147584    \n",
            "                                                                 \n",
            " block2_pool (MaxPooling2D)  (None, 56, 56, 128)       0         \n",
            "                                                                 \n",
            " block3_conv1 (Conv2D)       (None, 56, 56, 256)       295168    \n",
            "                                                                 \n",
            " block3_conv2 (Conv2D)       (None, 56, 56, 256)       590080    \n",
            "                                                                 \n",
            " block3_conv3 (Conv2D)       (None, 56, 56, 256)       590080    \n",
            "                                                                 \n",
            " block3_pool (MaxPooling2D)  (None, 28, 28, 256)       0         \n",
            "                                                                 \n",
            " block4_conv1 (Conv2D)       (None, 28, 28, 512)       1180160   \n",
            "                                                                 \n",
            " block4_conv2 (Conv2D)       (None, 28, 28, 512)       2359808   \n",
            "                                                                 \n",
            " block4_conv3 (Conv2D)       (None, 28, 28, 512)       2359808   \n",
            "                                                                 \n",
            " block4_pool (MaxPooling2D)  (None, 14, 14, 512)       0         \n",
            "                                                                 \n",
            " block5_conv1 (Conv2D)       (None, 14, 14, 512)       2359808   \n",
            "                                                                 \n",
            " block5_conv2 (Conv2D)       (None, 14, 14, 512)       2359808   \n",
            "                                                                 \n",
            " block5_conv3 (Conv2D)       (None, 14, 14, 512)       2359808   \n",
            "                                                                 \n",
            " block5_pool (MaxPooling2D)  (None, 7, 7, 512)         0         \n",
            "                                                                 \n",
            " flatten (Flatten)           (None, 25088)             0         \n",
            "                                                                 \n",
            " dense (Dense)               (None, 7)                 175623    \n",
            "                                                                 \n",
            "=================================================================\n",
            "Total params: 14,890,311\n",
            "Trainable params: 175,623\n",
            "Non-trainable params: 14,714,688\n",
            "_________________________________________________________________\n"
          ]
        }
      ],
      "source": [
        "model.summary()"
      ]
    },
    {
      "cell_type": "code",
      "execution_count": 13,
      "metadata": {
        "id": "AOlNJYsGoOZO"
      },
      "outputs": [],
      "source": [
        "model.compile(\n",
        "  loss='categorical_crossentropy',\n",
        "  optimizer='adam',\n",
        "  metrics=['accuracy']\n",
        ")"
      ]
    },
    {
      "cell_type": "code",
      "execution_count": 14,
      "metadata": {
        "id": "6e9cpzeAobPO"
      },
      "outputs": [],
      "source": [
        "train_dataset = ImageDataGenerator(rescale = 1./255,\n",
        "                                   shear_range = 0.2,\n",
        "                                   zoom_range = 0.2,\n",
        "                                   horizontal_flip = True)\n",
        "\n",
        "test_dataset = ImageDataGenerator(rescale = 1./255)"
      ]
    },
    {
      "cell_type": "code",
      "execution_count": 15,
      "metadata": {
        "colab": {
          "base_uri": "https://localhost:8080/"
        },
        "id": "I9kIbgmSobdt",
        "outputId": "eb28da8a-b7b7-4928-d8fb-bacc2c58bdce"
      },
      "outputs": [
        {
          "output_type": "stream",
          "name": "stdout",
          "text": [
            "Found 2485 images belonging to 7 classes.\n",
            "Found 83 images belonging to 7 classes.\n"
          ]
        }
      ],
      "source": [
        "training_set = train_dataset.flow_from_directory(train_path,\n",
        "                                                 target_size = (224, 224),\n",
        "                                                 batch_size = 32,\n",
        "                                                 class_mode = 'categorical')\n",
        "\n",
        "testing_set = test_dataset.flow_from_directory(test_path, \n",
        "                                                 target_size = (224, 224),\n",
        "                                                 batch_size = 32,\n",
        "                                                 class_mode = 'categorical')"
      ]
    },
    {
      "cell_type": "code",
      "execution_count": 16,
      "metadata": {
        "id": "saoIvgKCobpx",
        "colab": {
          "base_uri": "https://localhost:8080/"
        },
        "outputId": "e6f3ebee-c3a3-4b0b-b358-af3784fb45d5"
      },
      "outputs": [
        {
          "output_type": "execute_result",
          "data": {
            "text/plain": [
              "{'Black rat snake': 0,\n",
              " 'Common garter snake': 1,\n",
              " 'Common watersnake': 2,\n",
              " \"Russell's Viper\": 3,\n",
              " 'Saw-scaled Viper': 4,\n",
              " 'Spectacled Cobra': 5,\n",
              " 'Western diamondback rattlesnake': 6}"
            ]
          },
          "metadata": {},
          "execution_count": 16
        }
      ],
      "source": [
        "training_set.class_indices"
      ]
    },
    {
      "cell_type": "code",
      "execution_count": 17,
      "metadata": {
        "colab": {
          "base_uri": "https://localhost:8080/"
        },
        "id": "92WB8ylEols7",
        "outputId": "b606f8aa-36cd-4311-9855-4d039d041c9f"
      },
      "outputs": [
        {
          "output_type": "stream",
          "name": "stdout",
          "text": [
            "Epoch 1/35\n",
            "78/78 [==============================] - 68s 768ms/step - loss: 1.6032 - accuracy: 0.4841 - val_loss: 1.0749 - val_accuracy: 0.5542\n",
            "Epoch 2/35\n",
            "78/78 [==============================] - 55s 710ms/step - loss: 0.9480 - accuracy: 0.6523 - val_loss: 0.9220 - val_accuracy: 0.6265\n",
            "Epoch 3/35\n",
            "78/78 [==============================] - 55s 701ms/step - loss: 0.8630 - accuracy: 0.6889 - val_loss: 1.2399 - val_accuracy: 0.6386\n",
            "Epoch 4/35\n",
            "78/78 [==============================] - 54s 691ms/step - loss: 0.7059 - accuracy: 0.7642 - val_loss: 0.9972 - val_accuracy: 0.6145\n",
            "Epoch 5/35\n",
            "78/78 [==============================] - 55s 702ms/step - loss: 0.6732 - accuracy: 0.7541 - val_loss: 0.9911 - val_accuracy: 0.6386\n",
            "Epoch 6/35\n",
            "78/78 [==============================] - 54s 689ms/step - loss: 0.5224 - accuracy: 0.8056 - val_loss: 0.8598 - val_accuracy: 0.7108\n",
            "Epoch 7/35\n",
            "78/78 [==============================] - 56s 716ms/step - loss: 0.5080 - accuracy: 0.8193 - val_loss: 0.8155 - val_accuracy: 0.6988\n",
            "Epoch 8/35\n",
            "78/78 [==============================] - 56s 712ms/step - loss: 0.4465 - accuracy: 0.8455 - val_loss: 0.9469 - val_accuracy: 0.7108\n",
            "Epoch 9/35\n",
            "78/78 [==============================] - 55s 699ms/step - loss: 0.4164 - accuracy: 0.8624 - val_loss: 1.0111 - val_accuracy: 0.6747\n",
            "Epoch 10/35\n",
            "78/78 [==============================] - 55s 698ms/step - loss: 0.3973 - accuracy: 0.8680 - val_loss: 1.0255 - val_accuracy: 0.6747\n",
            "Epoch 11/35\n",
            "78/78 [==============================] - 54s 695ms/step - loss: 0.3566 - accuracy: 0.8821 - val_loss: 1.0219 - val_accuracy: 0.6627\n",
            "Epoch 12/35\n",
            "78/78 [==============================] - 54s 691ms/step - loss: 0.3015 - accuracy: 0.9066 - val_loss: 0.8720 - val_accuracy: 0.6747\n",
            "Epoch 13/35\n",
            "78/78 [==============================] - 55s 701ms/step - loss: 0.3152 - accuracy: 0.8962 - val_loss: 1.1030 - val_accuracy: 0.6867\n",
            "Epoch 14/35\n",
            "78/78 [==============================] - 56s 711ms/step - loss: 0.2846 - accuracy: 0.9034 - val_loss: 0.8491 - val_accuracy: 0.6627\n",
            "Epoch 15/35\n",
            "78/78 [==============================] - 54s 694ms/step - loss: 0.2575 - accuracy: 0.9296 - val_loss: 0.8890 - val_accuracy: 0.6867\n",
            "Epoch 16/35\n",
            "78/78 [==============================] - 53s 681ms/step - loss: 0.2502 - accuracy: 0.9243 - val_loss: 1.0140 - val_accuracy: 0.6747\n",
            "Epoch 17/35\n",
            "78/78 [==============================] - 53s 681ms/step - loss: 0.2164 - accuracy: 0.9372 - val_loss: 0.8800 - val_accuracy: 0.6747\n",
            "Epoch 18/35\n",
            "78/78 [==============================] - 53s 676ms/step - loss: 0.2240 - accuracy: 0.9368 - val_loss: 0.8875 - val_accuracy: 0.6867\n",
            "Epoch 19/35\n",
            "78/78 [==============================] - 53s 677ms/step - loss: 0.1969 - accuracy: 0.9453 - val_loss: 0.9595 - val_accuracy: 0.6747\n",
            "Epoch 20/35\n",
            "78/78 [==============================] - 53s 674ms/step - loss: 0.2047 - accuracy: 0.9364 - val_loss: 1.0198 - val_accuracy: 0.6988\n",
            "Epoch 21/35\n",
            "78/78 [==============================] - 53s 671ms/step - loss: 0.2137 - accuracy: 0.9344 - val_loss: 1.0993 - val_accuracy: 0.6627\n",
            "Epoch 22/35\n",
            "78/78 [==============================] - 53s 676ms/step - loss: 0.1739 - accuracy: 0.9469 - val_loss: 0.9657 - val_accuracy: 0.7108\n",
            "Epoch 23/35\n",
            "78/78 [==============================] - 54s 687ms/step - loss: 0.1953 - accuracy: 0.9412 - val_loss: 1.2724 - val_accuracy: 0.6867\n",
            "Epoch 24/35\n",
            "78/78 [==============================] - 54s 689ms/step - loss: 0.1970 - accuracy: 0.9396 - val_loss: 1.1788 - val_accuracy: 0.6988\n",
            "Epoch 25/35\n",
            "78/78 [==============================] - 53s 680ms/step - loss: 0.1694 - accuracy: 0.9521 - val_loss: 0.9740 - val_accuracy: 0.7108\n",
            "Epoch 26/35\n",
            "78/78 [==============================] - 53s 676ms/step - loss: 0.1668 - accuracy: 0.9565 - val_loss: 1.0909 - val_accuracy: 0.6747\n",
            "Epoch 27/35\n",
            "78/78 [==============================] - 54s 683ms/step - loss: 0.1627 - accuracy: 0.9505 - val_loss: 1.0920 - val_accuracy: 0.6747\n",
            "Epoch 28/35\n",
            "78/78 [==============================] - 54s 685ms/step - loss: 0.1533 - accuracy: 0.9602 - val_loss: 1.1086 - val_accuracy: 0.6988\n",
            "Epoch 29/35\n",
            "78/78 [==============================] - 53s 684ms/step - loss: 0.1603 - accuracy: 0.9561 - val_loss: 1.1409 - val_accuracy: 0.6627\n",
            "Epoch 30/35\n",
            "78/78 [==============================] - 53s 675ms/step - loss: 0.1316 - accuracy: 0.9682 - val_loss: 1.2347 - val_accuracy: 0.6265\n",
            "Epoch 31/35\n",
            "78/78 [==============================] - 53s 674ms/step - loss: 0.1408 - accuracy: 0.9598 - val_loss: 1.2627 - val_accuracy: 0.6265\n",
            "Epoch 32/35\n",
            "78/78 [==============================] - 55s 701ms/step - loss: 0.1630 - accuracy: 0.9473 - val_loss: 1.2424 - val_accuracy: 0.6627\n",
            "Epoch 33/35\n",
            "78/78 [==============================] - 55s 699ms/step - loss: 0.1548 - accuracy: 0.9561 - val_loss: 1.3669 - val_accuracy: 0.6386\n",
            "Epoch 34/35\n",
            "78/78 [==============================] - 54s 689ms/step - loss: 0.1175 - accuracy: 0.9666 - val_loss: 1.0864 - val_accuracy: 0.7108\n",
            "Epoch 35/35\n",
            "78/78 [==============================] - 53s 680ms/step - loss: 0.1173 - accuracy: 0.9666 - val_loss: 1.2184 - val_accuracy: 0.7229\n"
          ]
        }
      ],
      "source": [
        "cobrashot_model = model.fit(\n",
        "  training_set,\n",
        "  validation_data=testing_set,\n",
        "  epochs=35,\n",
        "  batch_size=15\n",
        ")"
      ]
    },
    {
      "cell_type": "code",
      "execution_count": 18,
      "metadata": {
        "id": "55ZJIKkFol2b"
      },
      "outputs": [],
      "source": [
        "cobrashot_model.history??"
      ]
    },
    {
      "cell_type": "code",
      "source": [
        "cobrashot_model.history.keys()"
      ],
      "metadata": {
        "colab": {
          "base_uri": "https://localhost:8080/"
        },
        "id": "cIbPDsvXJCjV",
        "outputId": "f2220bcf-9332-409e-a573-8fe0a83d5189"
      },
      "execution_count": 19,
      "outputs": [
        {
          "output_type": "execute_result",
          "data": {
            "text/plain": [
              "dict_keys(['loss', 'accuracy', 'val_loss', 'val_accuracy'])"
            ]
          },
          "metadata": {},
          "execution_count": 19
        }
      ]
    },
    {
      "cell_type": "code",
      "source": [
        "# summarize training for accuracy\n",
        "plt.plot(cobrashot_model.history['accuracy'])\n",
        "plt.plot(cobrashot_model.history['val_accuracy'])\n",
        "plt.title('Accuracy graph')\n",
        "plt.xlabel('epoch')\n",
        "plt.ylabel('accuracy')\n",
        "plt.legend(['train','test'], loc='upper left')\n",
        "plt.show()"
      ],
      "metadata": {
        "colab": {
          "base_uri": "https://localhost:8080/",
          "height": 295
        },
        "id": "cAXfHjevJKH7",
        "outputId": "4c95880c-769d-4b42-e21f-fb9594bd49ba"
      },
      "execution_count": 20,
      "outputs": [
        {
          "output_type": "display_data",
          "data": {
            "text/plain": [
              "<Figure size 432x288 with 1 Axes>"
            ],
            "image/png": "[encoded data removed]"
          },
          "metadata": {
            "needs_background": "light"
          }
        }
      ]
    },
    {
      "cell_type": "code",
      "source": [
        "# summarize training for loss\n",
        "plt.plot(cobrashot_model.history['loss'])\n",
        "plt.plot(cobrashot_model.history['val_loss'])\n",
        "plt.title('Loss graph')\n",
        "plt.xlabel('epoch')\n",
        "plt.ylabel('loss')\n",
        "plt.legend(['train','test'], loc='upper left')\n",
        "plt.show()"
      ],
      "metadata": {
        "colab": {
          "base_uri": "https://localhost:8080/",
          "height": 295
        },
        "id": "SmckTqmKJS5N",
        "outputId": "e7199b6c-6d35-43e2-f99a-43ac217a6aea"
      },
      "execution_count": 21,
      "outputs": [
        {
          "output_type": "display_data",
          "data": {
            "text/plain": [
              "<Figure size 432x288 with 1 Axes>"
            ],
            "image/png": "[encoded data removed]"
          },
          "metadata": {
            "needs_background": "light"
          }
        }
      ]
    },
    {
      "cell_type": "code",
      "source": [
        "#create the model\n",
        "from tensorflow.keras.models import load_model\n",
        "model.save('cobrashot_model.h5')"
      ],
      "metadata": {
        "id": "Xkjm20HPJZ0H"
      },
      "execution_count": 22,
      "outputs": []
    },
    {
      "cell_type": "code",
      "source": [
        "#load the model and save\n",
        "from keras.models import load_model\n",
        "cobrashot_model = load_model('cobrashot_model.h5')"
      ],
      "metadata": {
        "id": "K6LVliLLJgIw"
      },
      "execution_count": 23,
      "outputs": []
    }
  ],
  "metadata": {
    "colab": {
      "collapsed_sections": [],
      "name": "Training.ipynb",
      "provenance": [],
      "mount_file_id": "1Uppi-1aK5lCQfrZiSQgl7pj_JQd69IYF",
      "authorship_tag": "ABX9TyNdEY9MQfBCVg4+nliDeZGG",
      "include_colab_link": true
    },
    "kernelspec": {
      "display_name": "Python 3",
      "name": "python3"
    },
    "language_info": {
      "name": "python"
    },
    "accelerator": "GPU"
  },
  "nbformat": 4,
  "nbformat_minor": 0
}